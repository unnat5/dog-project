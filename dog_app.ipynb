{
 "cells": [
  {
   "cell_type": "markdown",
   "metadata": {},
   "source": [
    "# Artificial Intelligence Nanodegree\n",
    "\n",
    "## Convolutional Neural Networks\n",
    "\n",
    "## Project: Write an Algorithm for a Dog Identification App \n",
    "\n",
    "---\n",
    "\n",
    "In this notebook, some template code has already been provided for you, and you will need to implement additional functionality to successfully complete this project. You will not need to modify the included code beyond what is requested. Sections that begin with **'(IMPLEMENTATION)'** in the header indicate that the following block of code will require additional functionality which you must provide. Instructions will be provided for each section, and the specifics of the implementation are marked in the code block with a 'TODO' statement. Please be sure to read the instructions carefully! \n",
    "\n",
    "> **Note**: Once you have completed all of the code implementations, you need to finalize your work by exporting the iPython Notebook as an HTML document. Before exporting the notebook to html, all of the code cells need to have been run so that reviewers can see the final implementation and output. You can then export the notebook by using the menu above and navigating to  \\n\",\n",
    "    \"**File -> Download as -> HTML (.html)**. Include the finished document along with this notebook as your submission.\n",
    "\n",
    "In addition to implementing code, there will be questions that you must answer which relate to the project and your implementation. Each section where you will answer a question is preceded by a **'Question X'** header. Carefully read each question and provide thorough answers in the following text boxes that begin with **'Answer:'**. Your project submission will be evaluated based on your answers to each of the questions and the implementation you provide.\n",
    "\n",
    ">**Note:** Code and Markdown cells can be executed using the **Shift + Enter** keyboard shortcut.  Markdown cells can be edited by double-clicking the cell to enter edit mode.\n",
    "\n",
    "The rubric contains _optional_ \"Stand Out Suggestions\" for enhancing the project beyond the minimum requirements. If you decide to pursue the \"Stand Out Suggestions\", you should include the code in this IPython notebook.\n",
    "\n",
    "\n",
    "\n",
    "---\n",
    "### Why We're Here \n",
    "\n",
    "In this notebook, you will make the first steps towards developing an algorithm that could be used as part of a mobile or web app.  At the end of this project, your code will accept any user-supplied image as input.  If a dog is detected in the image, it will provide an estimate of the dog's breed.  If a human is detected, it will provide an estimate of the dog breed that is most resembling.  The image below displays potential sample output of your finished project (... but we expect that each student's algorithm will behave differently!). \n",
    "\n",
    "![Sample Dog Output](images/sample_dog_output.png)\n",
    "\n",
    "In this real-world setting, you will need to piece together a series of models to perform different tasks; for instance, the algorithm that detects humans in an image will be different from the CNN that infers dog breed.  There are many points of possible failure, and no perfect algorithm exists.  Your imperfect solution will nonetheless create a fun user experience!\n",
    "\n",
    "### The Road Ahead\n",
    "\n",
    "We break the notebook into separate steps.  Feel free to use the links below to navigate the notebook.\n",
    "\n",
    "* [Step 0](#step0): Import Datasets\n",
    "* [Step 1](#step1): Detect Humans\n",
    "* [Step 2](#step2): Detect Dogs\n",
    "* [Step 3](#step3): Create a CNN to Classify Dog Breeds (from Scratch)\n",
    "* [Step 4](#step4): Use a CNN to Classify Dog Breeds (using Transfer Learning)\n",
    "* [Step 5](#step5): Create a CNN to Classify Dog Breeds (using Transfer Learning)\n",
    "* [Step 6](#step6): Write your Algorithm\n",
    "* [Step 7](#step7): Test Your Algorithm\n",
    "\n",
    "---\n",
    "<a id='step0'></a>\n",
    "## Step 0: Import Datasets\n",
    "\n",
    "### Import Dog Dataset\n",
    "\n",
    "In the code cell below, we import a dataset of dog images.  We populate a few variables through the use of the `load_files` function from the scikit-learn library:\n",
    "- `train_files`, `valid_files`, `test_files` - numpy arrays containing file paths to images\n",
    "- `train_targets`, `valid_targets`, `test_targets` - numpy arrays containing onehot-encoded classification labels \n",
    "- `dog_names` - list of string-valued dog breed names for translating labels"
   ]
  },
  {
   "cell_type": "code",
   "execution_count": 1,
   "metadata": {},
   "outputs": [
    {
     "name": "stderr",
     "output_type": "stream",
     "text": [
      "Using TensorFlow backend.\n",
      "/Users/unnatsingh/anaconda3/lib/python3.6/importlib/_bootstrap.py:219: RuntimeWarning: compiletime version 3.5 of module 'tensorflow.python.framework.fast_tensor_util' does not match runtime version 3.6\n",
      "  return f(*args, **kwds)\n"
     ]
    },
    {
     "name": "stdout",
     "output_type": "stream",
     "text": [
      "There are 133 total dog categories.\n",
      "There are 8351 total dog images.\n",
      "\n",
      "There are 6680 training dog images.\n",
      "There are 835 validation dog images.\n",
      "There are 836 test dog images.\n"
     ]
    }
   ],
   "source": [
    "from sklearn.datasets import load_files       \n",
    "from keras.utils import np_utils\n",
    "import numpy as np\n",
    "from glob import glob\n",
    "\n",
    "# define function to load train, test, and validation datasets\n",
    "def load_dataset(path):\n",
    "    data = load_files(path)\n",
    "    dog_files = np.array(data['filenames'])\n",
    "    dog_targets = np_utils.to_categorical(np.array(data['target']), 133)\n",
    "    return dog_files, dog_targets\n",
    "\n",
    "# load train, test, and validation datasets\n",
    "train_files, train_targets = load_dataset('dogImages/train')\n",
    "valid_files, valid_targets = load_dataset('dogImages/valid')\n",
    "test_files, test_targets = load_dataset('dogImages/test')\n",
    "\n",
    "# load list of dog names\n",
    "dog_names = [item[20:-1] for item in sorted(glob(\"dogImages/train/*/\"))]\n",
    "\n",
    "# print statistics about the dataset\n",
    "print('There are %d total dog categories.' % len(dog_names))\n",
    "print('There are %s total dog images.\\n' % len(np.hstack([train_files, valid_files, test_files])))\n",
    "print('There are %d training dog images.' % len(train_files))\n",
    "print('There are %d validation dog images.' % len(valid_files))\n",
    "print('There are %d test dog images.'% len(test_files))"
   ]
  },
  {
   "cell_type": "markdown",
   "metadata": {},
   "source": [
    "### Import Human Dataset\n",
    "\n",
    "In the code cell below, we import a dataset of human images, where the file paths are stored in the numpy array `human_files`."
   ]
  },
  {
   "cell_type": "code",
   "execution_count": 2,
   "metadata": {},
   "outputs": [
    {
     "name": "stdout",
     "output_type": "stream",
     "text": [
      "There are 13233 total human images.\n"
     ]
    }
   ],
   "source": [
    "import random\n",
    "random.seed(8675309)\n",
    "\n",
    "# load filenames in shuffled human dataset\n",
    "human_files = np.array(glob(\"lfw/*/*\"))\n",
    "random.shuffle(human_files)\n",
    "\n",
    "# print statistics about the dataset\n",
    "print('There are %d total human images.' % len(human_files))"
   ]
  },
  {
   "cell_type": "markdown",
   "metadata": {},
   "source": [
    "---\n",
    "<a id='step1'></a>\n",
    "## Step 1: Detect Humans\n",
    "\n",
    "We use OpenCV's implementation of [Haar feature-based cascade classifiers](http://docs.opencv.org/trunk/d7/d8b/tutorial_py_face_detection.html) to detect human faces in images.  OpenCV provides many pre-trained face detectors, stored as XML files on [github](https://github.com/opencv/opencv/tree/master/data/haarcascades).  We have downloaded one of these detectors and stored it in the `haarcascades` directory.\n",
    "\n",
    "In the next code cell, we demonstrate how to use this detector to find human faces in a sample image."
   ]
  },
  {
   "cell_type": "code",
   "execution_count": 3,
   "metadata": {},
   "outputs": [
    {
     "name": "stdout",
     "output_type": "stream",
     "text": [
      "Number of faces detected: 1\n"
     ]
    },
    {
     "data": {
      "image/png": "[encoded data removed]",
      "text/plain": [
       "<matplotlib.figure.Figure at 0x1186a6438>"
      ]
     },
     "metadata": {},
     "output_type": "display_data"
    }
   ],
   "source": [
    "import cv2                \n",
    "import matplotlib.pyplot as plt                        \n",
    "%matplotlib inline                               \n",
    "\n",
    "# extract pre-trained face detector\n",
    "face_cascade = cv2.CascadeClassifier('haarcascades/haarcascade_frontalface_alt.xml')\n",
    "\n",
    "# load color (BGR) image\n",
    "img = cv2.imread(human_files[3])\n",
    "# convert BGR image to grayscale\n",
    "gray = cv2.cvtColor(img, cv2.COLOR_BGR2GRAY)\n",
    "\n",
    "# find faces in image\n",
    "faces = face_cascade.detectMultiScale(gray)\n",
    "\n",
    "# print number of faces detected in the image\n",
    "print('Number of faces detected:', len(faces))\n",
    "\n",
    "# get bounding box for each detected face\n",
    "for (x,y,w,h) in faces:\n",
    "    # add bounding box to color image\n",
    "    cv2.rectangle(img,(x,y),(x+w,y+h),(255,0,0),2)\n",
    "    \n",
    "# convert BGR image to RGB for plotting\n",
    "cv_rgb = cv2.cvtColor(img, cv2.COLOR_BGR2RGB)\n",
    "\n",
    "# display the image, along with bounding box\n",
    "plt.imshow(cv_rgb)\n",
    "plt.show()"
   ]
  },
  {
   "cell_type": "markdown",
   "metadata": {},
   "source": [
    "Before using any of the face detectors, it is standard procedure to convert the images to grayscale.  The `detectMultiScale` function executes the classifier stored in `face_cascade` and takes the grayscale image as a parameter.  \n",
    "\n",
    "In the above code, `faces` is a numpy array of detected faces, where each row corresponds to a detected face.  Each detected face is a 1D array with four entries that specifies the bounding box of the detected face.  The first two entries in the array (extracted in the above code as `x` and `y`) specify the horizontal and vertical positions of the top left corner of the bounding box.  The last two entries in the array (extracted here as `w` and `h`) specify the width and height of the box.\n",
    "\n",
    "### Write a Human Face Detector\n",
    "\n",
    "We can use this procedure to write a function that returns `True` if a human face is detected in an image and `False` otherwise.  This function, aptly named `face_detector`, takes a string-valued file path to an image as input and appears in the code block below."
   ]
  },
  {
   "cell_type": "code",
   "execution_count": 4,
   "metadata": {
    "collapsed": true
   },
   "outputs": [],
   "source": [
    "# returns \"True\" if face is detected in image stored at img_path\n",
    "def face_detector(img_path):\n",
    "    img = cv2.imread(img_path)\n",
    "    gray = cv2.cvtColor(img, cv2.COLOR_BGR2GRAY)\n",
    "    faces = face_cascade.detectMultiScale(gray)\n",
    "    return len(faces) > 0"
   ]
  },
  {
   "cell_type": "markdown",
   "metadata": {},
   "source": [
    "### (IMPLEMENTATION) Assess the Human Face Detector\n",
    "\n",
    "__Question 1:__ Use the code cell below to test the performance of the `face_detector` function.  \n",
    "- What percentage of the first 100 images in `human_files` have a detected human face?  \n",
    "- What percentage of the first 100 images in `dog_files` have a detected human face? \n",
    "\n",
    "Ideally, we would like 100% of human images with a detected face and 0% of dog images with a detected face.  You will see that our algorithm falls short of this goal, but still gives acceptable performance.  We extract the file paths for the first 100 images from each of the datasets and store them in the numpy arrays `human_files_short` and `dog_files_short`.\n",
    "\n",
    "__Answer:__ "
   ]
  },
  {
   "cell_type": "code",
   "execution_count": 5,
   "metadata": {},
   "outputs": [
    {
     "name": "stdout",
     "output_type": "stream",
     "text": [
      "Accuracy for human faces is : 100.0\n",
      "Accuracy for dog faces is : 88.0\n"
     ]
    }
   ],
   "source": [
    "human_files_short = human_files[:100]\n",
    "dog_files_short = train_files[:100]\n",
    "# Do NOT modify the code above this line.\n",
    "\n",
    "## TODO: Test the performance of the face_detector algorithm \n",
    "## on the images in human_files_short and dog_files_short.\n",
    "logical_human =[face_detector(face) for face in human_files_short]\n",
    "accuracy_humanfaces = logical_human.count(True)/len(logical_human)\n",
    "print(\"Accuracy for human faces is : \"+str(100*accuracy_humanfaces))\n",
    "logical_dog = [face_detector(dog_Faces) for dog_Faces in dog_files_short]\n",
    "accuracy_dog = logical_dog.count(False)/len(logical_dog)\n",
    "print(\"Accuracy for dog faces is : \"+str(100*accuracy_dog))"
   ]
  },
  {
   "cell_type": "markdown",
   "metadata": {},
   "source": [
    "__Question 2:__ This algorithmic choice necessitates that we communicate to the user that we accept human images only when they provide a clear view of a face (otherwise, we risk having unneccessarily frustrated users!). In your opinion, is this a reasonable expectation to pose on the user? If not, can you think of a way to detect humans in images that does not necessitate an image with a clearly presented face?\n",
    "\n",
    "__Answer:__\n",
    "\n",
    "We suggest the face detector from OpenCV as a potential way to detect human images in your algorithm, but you are free to explore other approaches, especially approaches that make use of deep learning :).  Please use the code cell below to design and test your own face detection algorithm.  If you decide to pursue this _optional_ task, report performance on each of the datasets."
   ]
  },
  {
   "cell_type": "code",
   "execution_count": 6,
   "metadata": {
    "collapsed": true
   },
   "outputs": [],
   "source": [
    "## (Optional) TODO: Report the performance of another  \n",
    "## face detection algorithm on the LFW dataset\n",
    "### Feel free to use as many code cells as needed."
   ]
  },
  {
   "cell_type": "markdown",
   "metadata": {},
   "source": [
    "---\n",
    "<a id='step2'></a>\n",
    "## Step 2: Detect Dogs\n",
    "\n",
    "In this section, we use a pre-trained [ResNet-50](http://ethereon.github.io/netscope/#/gist/db945b393d40bfa26006) model to detect dogs in images.  Our first line of code downloads the ResNet-50 model, along with weights that have been trained on [ImageNet](http://www.image-net.org/), a very large, very popular dataset used for image classification and other vision tasks.  ImageNet contains over 10 million URLs, each linking to an image containing an object from one of [1000 categories](https://gist.github.com/yrevar/942d3a0ac09ec9e5eb3a).  Given an image, this pre-trained ResNet-50 model returns a prediction (derived from the available categories in ImageNet) for the object that is contained in the image."
   ]
  },
  {
   "cell_type": "code",
   "execution_count": 7,
   "metadata": {
    "collapsed": true
   },
   "outputs": [],
   "source": [
    "from keras.applications.resnet50 import ResNet50\n",
    "\n",
    "# define ResNet50 model\n",
    "ResNet50_model = ResNet50(weights='imagenet')"
   ]
  },
  {
   "cell_type": "markdown",
   "metadata": {},
   "source": [
    "### Pre-process the Data\n",
    "\n",
    "When using TensorFlow as backend, Keras CNNs require a 4D array (which we'll also refer to as a 4D tensor) as input, with shape\n",
    "\n",
    "$$\n",
    "(\\text{nb_samples}, \\text{rows}, \\text{columns}, \\text{channels}),\n",
    "$$\n",
    "\n",
    "where `nb_samples` corresponds to the total number of images (or samples), and `rows`, `columns`, and `channels` correspond to the number of rows, columns, and channels for each image, respectively.  \n",
    "\n",
    "The `path_to_tensor` function below takes a string-valued file path to a color image as input and returns a 4D tensor suitable for supplying to a Keras CNN.  The function first loads the image and resizes it to a square image that is $224 \\times 224$ pixels.  Next, the image is converted to an array, which is then resized to a 4D tensor.  In this case, since we are working with color images, each image has three channels.  Likewise, since we are processing a single image (or sample), the returned tensor will always have shape\n",
    "\n",
    "$$\n",
    "(1, 224, 224, 3).\n",
    "$$\n",
    "\n",
    "The `paths_to_tensor` function takes a numpy array of string-valued image paths as input and returns a 4D tensor with shape \n",
    "\n",
    "$$\n",
    "(\\text{nb_samples}, 224, 224, 3).\n",
    "$$\n",
    "\n",
    "Here, `nb_samples` is the number of samples, or number of images, in the supplied array of image paths.  It is best to think of `nb_samples` as the number of 3D tensors (where each 3D tensor corresponds to a different image) in your dataset!"
   ]
  },
  {
   "cell_type": "code",
   "execution_count": 8,
   "metadata": {
    "collapsed": true
   },
   "outputs": [],
   "source": [
    "from keras.preprocessing import image                  \n",
    "from tqdm import tqdm\n",
    "\n",
    "def path_to_tensor(img_path):\n",
    "    # loads RGB image as PIL.Image.Image type\n",
    "    img = image.load_img(img_path, target_size=(224, 224))\n",
    "    # convert PIL.Image.Image type to 3D tensor with shape (224, 224, 3)\n",
    "    x = image.img_to_array(img)\n",
    "    # convert 3D tensor to 4D tensor with shape (1, 224, 224, 3) and return 4D tensor\n",
    "    return np.expand_dims(x, axis=0)\n",
    "\n",
    "def paths_to_tensor(img_paths):\n",
    "    list_of_tensors = [path_to_tensor(img_path) for img_path in tqdm(img_paths)]\n",
    "    return np.vstack(list_of_tensors)"
   ]
  },
  {
   "cell_type": "markdown",
   "metadata": {},
   "source": [
    "### Making Predictions with ResNet-50\n",
    "\n",
    "Getting the 4D tensor ready for ResNet-50, and for any other pre-trained model in Keras, requires some additional processing.  First, the RGB image is converted to BGR by reordering the channels.  All pre-trained models have the additional normalization step that the mean pixel (expressed in RGB as $[103.939, 116.779, 123.68]$ and calculated from all pixels in all images in ImageNet) must be subtracted from every pixel in each image.  This is implemented in the imported function `preprocess_input`.  If you're curious, you can check the code for `preprocess_input` [here](https://github.com/fchollet/keras/blob/master/keras/applications/imagenet_utils.py).\n",
    "\n",
    "Now that we have a way to format our image for supplying to ResNet-50, we are now ready to use the model to extract the predictions.  This is accomplished with the `predict` method, which returns an array whose $i$-th entry is the model's predicted probability that the image belongs to the $i$-th ImageNet category.  This is implemented in the `ResNet50_predict_labels` function below.\n",
    "\n",
    "By taking the argmax of the predicted probability vector, we obtain an integer corresponding to the model's predicted object class, which we can identify with an object category through the use of this [dictionary](https://gist.github.com/yrevar/942d3a0ac09ec9e5eb3a). "
   ]
  },
  {
   "cell_type": "code",
   "execution_count": 9,
   "metadata": {
    "collapsed": true
   },
   "outputs": [],
   "source": [
    "from keras.applications.resnet50 import preprocess_input, decode_predictions\n",
    "\n",
    "def ResNet50_predict_labels(img_path):\n",
    "    # returns prediction vector for image located at img_path\n",
    "    img = preprocess_input(path_to_tensor(img_path))\n",
    "    return np.argmax(ResNet50_model.predict(img))"
   ]
  },
  {
   "cell_type": "markdown",
   "metadata": {},
   "source": [
    "### Write a Dog Detector\n",
    "\n",
    "While looking at the [dictionary](https://gist.github.com/yrevar/942d3a0ac09ec9e5eb3a), you will notice that the categories corresponding to dogs appear in an uninterrupted sequence and correspond to dictionary keys 151-268, inclusive, to include all categories from `'Chihuahua'` to `'Mexican hairless'`.  Thus, in order to check to see if an image is predicted to contain a dog by the pre-trained ResNet-50 model, we need only check if the `ResNet50_predict_labels` function above returns a value between 151 and 268 (inclusive).\n",
    "\n",
    "We use these ideas to complete the `dog_detector` function below, which returns `True` if a dog is detected in an image (and `False` if not)."
   ]
  },
  {
   "cell_type": "code",
   "execution_count": 10,
   "metadata": {
    "collapsed": true
   },
   "outputs": [],
   "source": [
    "### returns \"True\" if a dog is detected in the image stored at img_path\n",
    "def dog_detector(img_path):\n",
    "    prediction = ResNet50_predict_labels(img_path)\n",
    "    return ((prediction <= 268) & (prediction >= 151)) "
   ]
  },
  {
   "cell_type": "markdown",
   "metadata": {},
   "source": [
    "### (IMPLEMENTATION) Assess the Dog Detector\n",
    "\n",
    "__Question 3:__ Use the code cell below to test the performance of your `dog_detector` function.  \n",
    "- What percentage of the images in `human_files_short` have a detected dog?  \n",
    "- What percentage of the images in `dog_files_short` have a detected dog?\n",
    "\n",
    "__Answer:__ "
   ]
  },
  {
   "cell_type": "code",
   "execution_count": 11,
   "metadata": {},
   "outputs": [
    {
     "name": "stdout",
     "output_type": "stream",
     "text": [
      "Accuracy on human face dataset : 100.0\n",
      "Accuracy on dog dataset : 100.0\n"
     ]
    }
   ],
   "source": [
    "### TODO: Test the performance of the dog_detector function\n",
    "### on the images in human_files_short and dog_files_short.\n",
    "log_hum = [dog_detector(human) for human in human_files_short]\n",
    "accuracy_hum = log_hum.count(False)/len(log_hum)\n",
    "print(\"Accuracy on human face dataset : \"+str(100*accuracy_hum))\n",
    "log_dog = [dog_detector(dog) for dog in dog_files_short]\n",
    "accuracy_dog = log_dog.count(True)/len(log_dog)\n",
    "print(\"Accuracy on dog dataset : \"+str(100*accuracy_dog))"
   ]
  },
  {
   "cell_type": "markdown",
   "metadata": {},
   "source": [
    "---\n",
    "<a id='step3'></a>\n",
    "## Step 3: Create a CNN to Classify Dog Breeds (from Scratch)\n",
    "\n",
    "Now that we have functions for detecting humans and dogs in images, we need a way to predict breed from images.  In this step, you will create a CNN that classifies dog breeds.  You must create your CNN _from scratch_ (so, you can't use transfer learning _yet_!), and you must attain a test accuracy of at least 1%.  In Step 5 of this notebook, you will have the opportunity to use transfer learning to create a CNN that attains greatly improved accuracy.\n",
    "\n",
    "Be careful with adding too many trainable layers!  More parameters means longer training, which means you are more likely to need a GPU to accelerate the training process.  Thankfully, Keras provides a handy estimate of the time that each epoch is likely to take; you can extrapolate this estimate to figure out how long it will take for your algorithm to train. \n",
    "\n",
    "We mention that the task of assigning breed to dogs from images is considered exceptionally challenging.  To see why, consider that *even a human* would have great difficulty in distinguishing between a Brittany and a Welsh Springer Spaniel.  \n",
    "\n",
    "Brittany | Welsh Springer Spaniel\n",
    "- | - \n",
    "<img src=\"images/Brittany_02625.jpg\" width=\"100\"> | <img src=\"images/Welsh_springer_spaniel_08203.jpg\" width=\"200\">\n",
    "\n",
    "It is not difficult to find other dog breed pairs with minimal inter-class variation (for instance, Curly-Coated Retrievers and American Water Spaniels).  \n",
    "\n",
    "Curly-Coated Retriever | American Water Spaniel\n",
    "- | -\n",
    "<img src=\"images/Curly-coated_retriever_03896.jpg\" width=\"200\"> | <img src=\"images/American_water_spaniel_00648.jpg\" width=\"200\">\n",
    "\n",
    "\n",
    "Likewise, recall that labradors come in yellow, chocolate, and black.  Your vision-based algorithm will have to conquer this high intra-class variation to determine how to classify all of these different shades as the same breed.  \n",
    "\n",
    "Yellow Labrador | Chocolate Labrador | Black Labrador\n",
    "- | -\n",
    "<img src=\"images/Labrador_retriever_06457.jpg\" width=\"150\"> | <img src=\"images/Labrador_retriever_06455.jpg\" width=\"240\"> | <img src=\"images/Labrador_retriever_06449.jpg\" width=\"220\">\n",
    "\n",
    "We also mention that random chance presents an exceptionally low bar: setting aside the fact that the classes are slightly imabalanced, a random guess will provide a correct answer roughly 1 in 133 times, which corresponds to an accuracy of less than 1%.  \n",
    "\n",
    "Remember that the practice is far ahead of the theory in deep learning.  Experiment with many different architectures, and trust your intuition.  And, of course, have fun! \n",
    "\n",
    "### Pre-process the Data\n",
    "\n",
    "We rescale the images by dividing every pixel in every image by 255."
   ]
  },
  {
   "cell_type": "code",
   "execution_count": 12,
   "metadata": {},
   "outputs": [
    {
     "name": "stderr",
     "output_type": "stream",
     "text": [
      "100%|██████████| 6680/6680 [01:22<00:00, 80.97it/s]\n",
      "100%|██████████| 835/835 [00:11<00:00, 74.31it/s]\n",
      "100%|██████████| 836/836 [00:12<00:00, 65.45it/s]\n"
     ]
    },
    {
     "data": {
      "text/plain": [
       "(6680, 224, 224, 3)"
      ]
     },
     "execution_count": 12,
     "metadata": {},
     "output_type": "execute_result"
    }
   ],
   "source": [
    "from PIL import ImageFile                            \n",
    "ImageFile.LOAD_TRUNCATED_IMAGES = True                 \n",
    "\n",
    "# pre-process the data for Keras\n",
    "train_tensors = paths_to_tensor(train_files).astype('float32')/255\n",
    "valid_tensors = paths_to_tensor(valid_files).astype('float32')/255\n",
    "test_tensors = paths_to_tensor(test_files).astype('float32')/255\n",
    "train_tensors.shape"
   ]
  },
  {
   "cell_type": "code",
   "execution_count": 13,
   "metadata": {
    "collapsed": true
   },
   "outputs": [],
   "source": [
    "import warnings\n",
    "warnings.filterwarnings('ignore')"
   ]
  },
  {
   "cell_type": "code",
   "execution_count": 15,
   "metadata": {},
   "outputs": [],
   "source": [
    "\n",
    "from skimage import transform\n",
    "train_tensor_resized = np.array([skimage.transform.resize(train,(448,64,3)) for train in train_tensors])\n",
    "valid_tensor_resized = np.array([skimage.transform.resize(valid,(448,64,3)) for valid in valid_tensors])\n",
    "test_tensor_resized = np.array([skimage.transform.resize(test,(448,64,3)) for test in test_tensors])"
   ]
  },
  {
   "cell_type": "code",
   "execution_count": null,
   "metadata": {
    "collapsed": true
   },
   "outputs": [],
   "source": [
    "print(train_tensor_resized.shape)\n",
    "print(valid_tensor_resized.shape)\n",
    "print(test_tensor_resized.shape)"
   ]
  },
  {
   "cell_type": "markdown",
   "metadata": {},
   "source": [
    "### (IMPLEMENTATION) Model Architecture\n",
    "\n",
    "Create a CNN to classify dog breed.  At the end of your code cell block, summarize the layers of your model by executing the line:\n",
    "    \n",
    "        model.summary()\n",
    "\n",
    "We have imported some Python modules to get you started, but feel free to import as many modules as you need.  If you end up getting stuck, here's a hint that specifies a model that trains relatively fast on CPU and attains >1% test accuracy in 5 epochs:\n",
    "\n",
    "![Sample CNN](images/sample_cnn.png)\n",
    "           \n",
    "__Question 4:__ Outline the steps you took to get to your final CNN architecture and your reasoning at each step.  If you chose to use the hinted architecture above, describe why you think that CNN architecture should work well for the image classification task.\n",
    "\n",
    "__Answer:__ "
   ]
  },
  {
   "cell_type": "markdown",
   "metadata": {},
   "source": [
    "# Data Agumentation"
   ]
  },
  {
   "cell_type": "code",
   "execution_count": 18,
   "metadata": {
    "collapsed": true
   },
   "outputs": [],
   "source": [
    "from keras.preprocessing.image import ImageDataGenerator\n",
    "datagen_train = ImageDataGenerator(width_shift_range =0.1,\n",
    "                                  height_shift_range=0.1,\n",
    "                                  horizontal_flip = True)\n",
    "datagen_train.fit(train_tensor_resized)"
   ]
  },
  {
   "cell_type": "code",
   "execution_count": 16,
   "metadata": {},
   "outputs": [
    {
     "name": "stdout",
     "output_type": "stream",
     "text": [
      "_________________________________________________________________\n",
      "Layer (type)                 Output Shape              Param #   \n",
      "=================================================================\n",
      "conv2d_1 (Conv2D)            (None, 448, 64, 16)       784       \n",
      "_________________________________________________________________\n",
      "max_pooling2d_2 (MaxPooling2 (None, 224, 32, 16)       0         \n",
      "_________________________________________________________________\n",
      "conv2d_2 (Conv2D)            (None, 224, 32, 32)       6176      \n",
      "_________________________________________________________________\n",
      "max_pooling2d_3 (MaxPooling2 (None, 112, 16, 32)       0         \n",
      "_________________________________________________________________\n",
      "conv2d_3 (Conv2D)            (None, 112, 16, 64)       20544     \n",
      "_________________________________________________________________\n",
      "max_pooling2d_4 (MaxPooling2 (None, 56, 8, 64)         0         \n",
      "_________________________________________________________________\n",
      "conv2d_4 (Conv2D)            (None, 56, 8, 128)        49280     \n",
      "_________________________________________________________________\n",
      "max_pooling2d_5 (MaxPooling2 (None, 28, 4, 128)        0         \n",
      "_________________________________________________________________\n",
      "conv2d_5 (Conv2D)            (None, 28, 4, 254)        130302    \n",
      "_________________________________________________________________\n",
      "dropout_1 (Dropout)          (None, 28, 4, 254)        0         \n",
      "_________________________________________________________________\n",
      "global_average_pooling2d_1 ( (None, 254)               0         \n",
      "_________________________________________________________________\n",
      "dropout_2 (Dropout)          (None, 254)               0         \n",
      "_________________________________________________________________\n",
      "dense_1 (Dense)              (None, 133)               33915     \n",
      "=================================================================\n",
      "Total params: 241,001\n",
      "Trainable params: 241,001\n",
      "Non-trainable params: 0\n",
      "_________________________________________________________________\n"
     ]
    }
   ],
   "source": [
    "from keras.layers import Conv2D, MaxPooling2D, GlobalAveragePooling2D\n",
    "from keras.layers import Dropout, Flatten, Dense\n",
    "from keras.models import Sequential\n",
    "\n",
    "model = Sequential()\n",
    "model.add(Conv2D(filters=16,kernel_size=(8,2),padding=\"same\",activation=\"relu\",\n",
    "                input_shape = (train_tensor_resized.shape[1],train_tensor_resized.shape[2],\n",
    "                              train_tensor_resized.shape[3])))\n",
    "model.add(MaxPooling2D(pool_size=2,padding=\"same\"))\n",
    "model.add(Conv2D(filters=32,kernel_size = (6,2),padding=\"same\",activation=\"relu\"))\n",
    "model.add(MaxPooling2D(pool_size =2 ,padding = \"same\"))\n",
    "model.add(Conv2D(filters=64,kernel_size =(5,2),padding=\"same\",activation=\"relu\"))\n",
    "model.add(MaxPooling2D(pool_size=(2,2),padding=\"same\"))\n",
    "model.add(Conv2D(filters=128,kernel_size=(3,2),padding=\"same\",activation=\"relu\"))\n",
    "model.add(MaxPooling2D(pool_size=2,padding=\"same\"))\n",
    "model.add(Conv2D(filters=254,kernel_size=(2,2),activation=\"relu\",padding=\"same\"))\n",
    "model.add(Dropout(0.3))\n",
    "model.add(GlobalAveragePooling2D())\n",
    "model.add(Dropout(0.4))\n",
    "model.add(Dense(133,activation=\"softmax\"))\n",
    "### TODO: Define your architecture.\n",
    "\n",
    "model.summary()"
   ]
  },
  {
   "cell_type": "markdown",
   "metadata": {},
   "source": [
    "### Compile the Model"
   ]
  },
  {
   "cell_type": "code",
   "execution_count": null,
   "metadata": {
    "collapsed": true
   },
   "outputs": [],
   "source": [
    "model.compile(optimizer='adam', loss='categorical_crossentropy', metrics=['accuracy'])"
   ]
  },
  {
   "cell_type": "markdown",
   "metadata": {},
   "source": [
    "### (IMPLEMENTATION) Train the Model\n",
    "\n",
    "Train your model in the code cell below.  Use model checkpointing to save the model that attains the best validation loss.\n",
    "\n",
    "You are welcome to [augment the training data](https://blog.keras.io/building-powerful-image-classification-models-using-very-little-data.html), but this is not a requirement. "
   ]
  },
  {
   "cell_type": "code",
   "execution_count": 41,
   "metadata": {},
   "outputs": [
    {
     "name": "stdout",
     "output_type": "stream",
     "text": [
      "Epoch 1/200\n",
      "333/334 [============================>.] - ETA: 0s - loss: 4.8855 - acc: 0.0105Epoch 00000: val_loss improved from inf to 4.87208, saving model to saved_models/weights.best.from_scratch.hdf5\n",
      "334/334 [==============================] - 31s - loss: 4.8854 - acc: 0.0105 - val_loss: 4.8721 - val_acc: 0.0108\n",
      "Epoch 2/200\n",
      "333/334 [============================>.] - ETA: 0s - loss: 4.8733 - acc: 0.0102Epoch 00001: val_loss improved from 4.87208 to 4.86459, saving model to saved_models/weights.best.from_scratch.hdf5\n",
      "334/334 [==============================] - 30s - loss: 4.8734 - acc: 0.0102 - val_loss: 4.8646 - val_acc: 0.0108\n",
      "Epoch 3/200\n",
      "333/334 [============================>.] - ETA: 0s - loss: 4.8680 - acc: 0.0099Epoch 00002: val_loss improved from 4.86459 to 4.85853, saving model to saved_models/weights.best.from_scratch.hdf5\n",
      "334/334 [==============================] - 30s - loss: 4.8679 - acc: 0.0100 - val_loss: 4.8585 - val_acc: 0.0096\n",
      "Epoch 4/200\n",
      "333/334 [============================>.] - ETA: 0s - loss: 4.8597 - acc: 0.0104Epoch 00003: val_loss improved from 4.85853 to 4.85253, saving model to saved_models/weights.best.from_scratch.hdf5\n",
      "334/334 [==============================] - 30s - loss: 4.8599 - acc: 0.0103 - val_loss: 4.8525 - val_acc: 0.0096\n",
      "Epoch 5/200\n",
      "333/334 [============================>.] - ETA: 0s - loss: 4.8490 - acc: 0.0128- ETA: 1s - loss:Epoch 00004: val_loss improved from 4.85253 to 4.83772, saving model to saved_models/weights.best.from_scratch.hdf5\n",
      "334/334 [==============================] - 30s - loss: 4.8490 - acc: 0.0127 - val_loss: 4.8377 - val_acc: 0.0096\n",
      "Epoch 6/200\n",
      "333/334 [============================>.] - ETA: 0s - loss: 4.8317 - acc: 0.0164Epoch 00005: val_loss improved from 4.83772 to 4.82099, saving model to saved_models/weights.best.from_scratch.hdf5\n",
      "334/334 [==============================] - 30s - loss: 4.8318 - acc: 0.0163 - val_loss: 4.8210 - val_acc: 0.0180\n",
      "Epoch 7/200\n",
      "333/334 [============================>.] - ETA: 0s - loss: 4.8078 - acc: 0.0195Epoch 00006: val_loss improved from 4.82099 to 4.78108, saving model to saved_models/weights.best.from_scratch.hdf5\n",
      "334/334 [==============================] - 30s - loss: 4.8075 - acc: 0.0195 - val_loss: 4.7811 - val_acc: 0.0263\n",
      "Epoch 8/200\n",
      "333/334 [============================>.] - ETA: 0s - loss: 4.7788 - acc: 0.0240Epoch 00007: val_loss improved from 4.78108 to 4.76072, saving model to saved_models/weights.best.from_scratch.hdf5\n",
      "334/334 [==============================] - 30s - loss: 4.7788 - acc: 0.0240 - val_loss: 4.7607 - val_acc: 0.0287\n",
      "Epoch 9/200\n",
      "333/334 [============================>.] - ETA: 0s - loss: 4.7541 - acc: 0.0234Epoch 00008: val_loss improved from 4.76072 to 4.73492, saving model to saved_models/weights.best.from_scratch.hdf5\n",
      "334/334 [==============================] - 30s - loss: 4.7544 - acc: 0.0234 - val_loss: 4.7349 - val_acc: 0.0311\n",
      "Epoch 10/200\n",
      "333/334 [============================>.] - ETA: 0s - loss: 4.7319 - acc: 0.0275Epoch 00009: val_loss improved from 4.73492 to 4.72130, saving model to saved_models/weights.best.from_scratch.hdf5\n",
      "334/334 [==============================] - 30s - loss: 4.7313 - acc: 0.0275 - val_loss: 4.7213 - val_acc: 0.0287\n",
      "Epoch 11/200\n",
      "333/334 [============================>.] - ETA: 0s - loss: 4.7243 - acc: 0.0270Epoch 00010: val_loss improved from 4.72130 to 4.71276, saving model to saved_models/weights.best.from_scratch.hdf5\n",
      "334/334 [==============================] - 30s - loss: 4.7242 - acc: 0.0269 - val_loss: 4.7128 - val_acc: 0.0299\n",
      "Epoch 12/200\n",
      "333/334 [============================>.] - ETA: 0s - loss: 4.7066 - acc: 0.0276Epoch 00011: val_loss improved from 4.71276 to 4.68278, saving model to saved_models/weights.best.from_scratch.hdf5\n",
      "334/334 [==============================] - 30s - loss: 4.7066 - acc: 0.0277 - val_loss: 4.6828 - val_acc: 0.0359\n",
      "Epoch 13/200\n",
      "333/334 [============================>.] - ETA: 0s - loss: 4.6829 - acc: 0.0290Epoch 00012: val_loss did not improve\n",
      "334/334 [==============================] - 30s - loss: 4.6833 - acc: 0.0289 - val_loss: 4.7073 - val_acc: 0.0335\n",
      "Epoch 14/200\n",
      "333/334 [============================>.] - ETA: 0s - loss: 4.6371 - acc: 0.0324Epoch 00013: val_loss improved from 4.68278 to 4.58982, saving model to saved_models/weights.best.from_scratch.hdf5\n",
      "334/334 [==============================] - 30s - loss: 4.6370 - acc: 0.0325 - val_loss: 4.5898 - val_acc: 0.0395\n",
      "Epoch 15/200\n",
      "333/334 [============================>.] - ETA: 0s - loss: 4.5274 - acc: 0.0372Epoch 00014: val_loss did not improve\n",
      "334/334 [==============================] - 30s - loss: 4.5276 - acc: 0.0371 - val_loss: 4.6008 - val_acc: 0.0299\n",
      "Epoch 16/200\n",
      "333/334 [============================>.] - ETA: 0s - loss: 4.4188 - acc: 0.0431- ETA: 1s - loss: 4.418Epoch 00015: val_loss improved from 4.58982 to 4.41497, saving model to saved_models/weights.best.from_scratch.hdf5\n",
      "334/334 [==============================] - 30s - loss: 4.4179 - acc: 0.0433 - val_loss: 4.4150 - val_acc: 0.0527\n",
      "Epoch 17/200\n",
      "333/334 [============================>.] - ETA: 0s - loss: 4.3350 - acc: 0.0479Epoch 00016: val_loss improved from 4.41497 to 4.30542, saving model to saved_models/weights.best.from_scratch.hdf5\n",
      "334/334 [==============================] - 30s - loss: 4.3351 - acc: 0.0478 - val_loss: 4.3054 - val_acc: 0.0599\n",
      "Epoch 18/200\n",
      "333/334 [============================>.] - ETA: 0s - loss: 4.2838 - acc: 0.0544Epoch 00017: val_loss improved from 4.30542 to 4.24654, saving model to saved_models/weights.best.from_scratch.hdf5\n",
      "334/334 [==============================] - 30s - loss: 4.2831 - acc: 0.0543 - val_loss: 4.2465 - val_acc: 0.0611\n",
      "Epoch 19/200\n",
      "333/334 [============================>.] - ETA: 0s - loss: 4.2151 - acc: 0.0604Epoch 00018: val_loss improved from 4.24654 to 4.21654, saving model to saved_models/weights.best.from_scratch.hdf5\n",
      "334/334 [==============================] - 30s - loss: 4.2153 - acc: 0.0602 - val_loss: 4.2165 - val_acc: 0.0635\n",
      "Epoch 20/200\n",
      "333/334 [============================>.] - ETA: 0s - loss: 4.1458 - acc: 0.0685Epoch 00019: val_loss did not improve\n",
      "334/334 [==============================] - 30s - loss: 4.1454 - acc: 0.0689 - val_loss: 4.2201 - val_acc: 0.0683\n",
      "Epoch 21/200\n",
      "333/334 [============================>.] - ETA: 0s - loss: 4.0880 - acc: 0.0725Epoch 00020: val_loss improved from 4.21654 to 4.11857, saving model to saved_models/weights.best.from_scratch.hdf5\n",
      "334/334 [==============================] - 30s - loss: 4.0887 - acc: 0.0723 - val_loss: 4.1186 - val_acc: 0.0802\n",
      "Epoch 22/200\n",
      "333/334 [============================>.] - ETA: 0s - loss: 4.0363 - acc: 0.0755Epoch 00021: val_loss improved from 4.11857 to 4.05248, saving model to saved_models/weights.best.from_scratch.hdf5\n",
      "334/334 [==============================] - 30s - loss: 4.0353 - acc: 0.0756 - val_loss: 4.0525 - val_acc: 0.0814\n",
      "Epoch 23/200\n",
      "333/334 [============================>.] - ETA: 0s - loss: 3.9681 - acc: 0.0934Epoch 00022: val_loss did not improve\n",
      "334/334 [==============================] - 30s - loss: 3.9689 - acc: 0.0933 - val_loss: 4.0567 - val_acc: 0.0862\n",
      "Epoch 24/200\n",
      "333/334 [============================>.] - ETA: 0s - loss: 3.9253 - acc: 0.0902- ETA: 2s - loEpoch 00023: val_loss improved from 4.05248 to 3.96286, saving model to saved_models/weights.best.from_scratch.hdf5\n",
      "334/334 [==============================] - 30s - loss: 3.9247 - acc: 0.0904 - val_loss: 3.9629 - val_acc: 0.0874\n",
      "Epoch 25/200\n",
      "333/334 [============================>.] - ETA: 0s - loss: 3.8407 - acc: 0.1017Epoch 00024: val_loss improved from 3.96286 to 3.94609, saving model to saved_models/weights.best.from_scratch.hdf5\n",
      "334/334 [==============================] - 30s - loss: 3.8396 - acc: 0.1019 - val_loss: 3.9461 - val_acc: 0.0886\n",
      "Epoch 26/200\n",
      "333/334 [============================>.] - ETA: 0s - loss: 3.7953 - acc: 0.0992Epoch 00025: val_loss improved from 3.94609 to 3.85866, saving model to saved_models/weights.best.from_scratch.hdf5\n",
      "334/334 [==============================] - 30s - loss: 3.7953 - acc: 0.0993 - val_loss: 3.8587 - val_acc: 0.1054\n",
      "Epoch 27/200\n",
      "333/334 [============================>.] - ETA: 0s - loss: 3.7344 - acc: 0.1147Epoch 00026: val_loss improved from 3.85866 to 3.78886, saving model to saved_models/weights.best.from_scratch.hdf5\n",
      "334/334 [==============================] - 30s - loss: 3.7347 - acc: 0.1144 - val_loss: 3.7889 - val_acc: 0.1102\n",
      "Epoch 28/200\n",
      "333/334 [============================>.] - ETA: 0s - loss: 3.6841 - acc: 0.1240Epoch 00027: val_loss did not improve\n",
      "334/334 [==============================] - 30s - loss: 3.6851 - acc: 0.1240 - val_loss: 3.7915 - val_acc: 0.1162\n",
      "Epoch 29/200\n",
      "333/334 [============================>.] - ETA: 0s - loss: 3.6308 - acc: 0.1339Epoch 00028: val_loss improved from 3.78886 to 3.70392, saving model to saved_models/weights.best.from_scratch.hdf5\n",
      "334/334 [==============================] - 30s - loss: 3.6302 - acc: 0.1341 - val_loss: 3.7039 - val_acc: 0.1222\n",
      "Epoch 30/200\n",
      "333/334 [============================>.] - ETA: 0s - loss: 3.5917 - acc: 0.1335Epoch 00029: val_loss did not improve\n",
      "334/334 [==============================] - 30s - loss: 3.5920 - acc: 0.1332 - val_loss: 3.7046 - val_acc: 0.1305\n",
      "Epoch 31/200\n",
      "333/334 [============================>.] - ETA: 0s - loss: 3.5362 - acc: 0.1429Epoch 00030: val_loss improved from 3.70392 to 3.64302, saving model to saved_models/weights.best.from_scratch.hdf5\n",
      "334/334 [==============================] - 30s - loss: 3.5358 - acc: 0.1425 - val_loss: 3.6430 - val_acc: 0.1401\n",
      "Epoch 32/200\n",
      "333/334 [============================>.] - ETA: 0s - loss: 3.4973 - acc: 0.1586Epoch 00031: val_loss improved from 3.64302 to 3.60723, saving model to saved_models/weights.best.from_scratch.hdf5\n",
      "334/334 [==============================] - 30s - loss: 3.4966 - acc: 0.1584 - val_loss: 3.6072 - val_acc: 0.1449\n",
      "Epoch 33/200\n",
      "333/334 [============================>.] - ETA: 0s - loss: 3.4290 - acc: 0.1671Epoch 00032: val_loss did not improve\n",
      "334/334 [==============================] - 30s - loss: 3.4303 - acc: 0.1674 - val_loss: 3.6347 - val_acc: 0.1569\n",
      "Epoch 34/200\n",
      "333/334 [============================>.] - ETA: 0s - loss: 3.3992 - acc: 0.1667Epoch 00033: val_loss improved from 3.60723 to 3.52293, saving model to saved_models/weights.best.from_scratch.hdf5\n",
      "334/334 [==============================] - 30s - loss: 3.3993 - acc: 0.1663 - val_loss: 3.5229 - val_acc: 0.1425\n",
      "Epoch 35/200\n",
      "333/334 [============================>.] - ETA: 0s - loss: 3.3323 - acc: 0.1863Epoch 00034: val_loss did not improve\n",
      "334/334 [==============================] - 30s - loss: 3.3324 - acc: 0.1862 - val_loss: 3.6228 - val_acc: 0.1389\n",
      "Epoch 36/200\n",
      "333/334 [============================>.] - ETA: 0s - loss: 3.3056 - acc: 0.1842Epoch 00035: val_loss did not improve\n",
      "334/334 [==============================] - 30s - loss: 3.3055 - acc: 0.1841 - val_loss: 3.5374 - val_acc: 0.1737\n",
      "Epoch 37/200\n",
      "333/334 [============================>.] - ETA: 0s - loss: 3.2643 - acc: 0.1910Epoch 00036: val_loss did not improve\n",
      "334/334 [==============================] - 30s - loss: 3.2638 - acc: 0.1913 - val_loss: 3.5575 - val_acc: 0.1725\n",
      "Epoch 38/200\n",
      "333/334 [============================>.] - ETA: 0s - loss: 3.2331 - acc: 0.1991Epoch 00037: val_loss improved from 3.52293 to 3.45054, saving model to saved_models/weights.best.from_scratch.hdf5\n",
      "334/334 [==============================] - 30s - loss: 3.2341 - acc: 0.1990 - val_loss: 3.4505 - val_acc: 0.1820\n",
      "Epoch 39/200\n",
      "333/334 [============================>.] - ETA: 0s - loss: 3.1881 - acc: 0.2143Epoch 00038: val_loss did not improve\n",
      "334/334 [==============================] - 30s - loss: 3.1869 - acc: 0.2147 - val_loss: 3.4753 - val_acc: 0.1677\n",
      "Epoch 40/200\n",
      "333/334 [============================>.] - ETA: 0s - loss: 3.1535 - acc: 0.2161Epoch 00039: val_loss improved from 3.45054 to 3.44057, saving model to saved_models/weights.best.from_scratch.hdf5\n",
      "334/334 [==============================] - 30s - loss: 3.1542 - acc: 0.2163 - val_loss: 3.4406 - val_acc: 0.1880\n",
      "Epoch 41/200\n",
      "333/334 [============================>.] - ETA: 0s - loss: 3.1033 - acc: 0.2246Epoch 00040: val_loss improved from 3.44057 to 3.35589, saving model to saved_models/weights.best.from_scratch.hdf5\n",
      "334/334 [==============================] - 30s - loss: 3.1038 - acc: 0.2249 - val_loss: 3.3559 - val_acc: 0.1988\n",
      "Epoch 42/200\n",
      "333/334 [============================>.] - ETA: 0s - loss: 3.0968 - acc: 0.2183Epoch 00041: val_loss improved from 3.35589 to 3.34872, saving model to saved_models/weights.best.from_scratch.hdf5\n",
      "334/334 [==============================] - 30s - loss: 3.0966 - acc: 0.2180 - val_loss: 3.3487 - val_acc: 0.1952\n",
      "Epoch 43/200\n",
      "333/334 [============================>.] - ETA: 0s - loss: 3.0620 - acc: 0.2330Epoch 00042: val_loss did not improve\n",
      "334/334 [==============================] - 30s - loss: 3.0619 - acc: 0.2332 - val_loss: 3.3633 - val_acc: 0.1796\n",
      "Epoch 44/200\n",
      "333/334 [============================>.] - ETA: 0s - loss: 3.0119 - acc: 0.2456- ETEpoch 00043: val_loss improved from 3.34872 to 3.25470, saving model to saved_models/weights.best.from_scratch.hdf5\n",
      "334/334 [==============================] - 30s - loss: 3.0106 - acc: 0.2454 - val_loss: 3.2547 - val_acc: 0.2228\n",
      "Epoch 45/200\n",
      "333/334 [============================>.] - ETA: 0s - loss: 2.9756 - acc: 0.2351Epoch 00044: val_loss did not improve\n",
      "334/334 [==============================] - 30s - loss: 2.9742 - acc: 0.2355 - val_loss: 3.3146 - val_acc: 0.2120\n",
      "Epoch 46/200\n",
      "333/334 [============================>.] - ETA: 0s - loss: 2.9343 - acc: 0.2548Epoch 00045: val_loss improved from 3.25470 to 3.20753, saving model to saved_models/weights.best.from_scratch.hdf5\n",
      "334/334 [==============================] - 30s - loss: 2.9333 - acc: 0.2549 - val_loss: 3.2075 - val_acc: 0.2335\n",
      "Epoch 47/200\n",
      "333/334 [============================>.] - ETA: 0s - loss: 2.8769 - acc: 0.2587Epoch 00046: val_loss improved from 3.20753 to 3.20209, saving model to saved_models/weights.best.from_scratch.hdf5\n",
      "334/334 [==============================] - 31s - loss: 2.8759 - acc: 0.2591 - val_loss: 3.2021 - val_acc: 0.2287\n",
      "Epoch 48/200\n",
      "333/334 [============================>.] - ETA: 0s - loss: 2.8646 - acc: 0.2677Epoch 00047: val_loss did not improve\n",
      "334/334 [==============================] - 30s - loss: 2.8647 - acc: 0.2675 - val_loss: 3.2682 - val_acc: 0.2108\n",
      "Epoch 49/200\n",
      "333/334 [============================>.] - ETA: 0s - loss: 2.8661 - acc: 0.2692Epoch 00048: val_loss did not improve\n",
      "334/334 [==============================] - 30s - loss: 2.8682 - acc: 0.2687 - val_loss: 3.2877 - val_acc: 0.2287\n",
      "Epoch 50/200\n",
      "333/334 [============================>.] - ETA: 0s - loss: 2.8273 - acc: 0.2799Epoch 00049: val_loss improved from 3.20209 to 3.13650, saving model to saved_models/weights.best.from_scratch.hdf5\n",
      "334/334 [==============================] - 30s - loss: 2.8273 - acc: 0.2798 - val_loss: 3.1365 - val_acc: 0.2323\n",
      "Epoch 51/200\n",
      "333/334 [============================>.] - ETA: 0s - loss: 2.7970 - acc: 0.2854- ETA: 1s - loss: Epoch 00050: val_loss did not improve\n",
      "334/334 [==============================] - 30s - loss: 2.7982 - acc: 0.2855 - val_loss: 3.2113 - val_acc: 0.2240\n",
      "Epoch 52/200\n",
      "333/334 [============================>.] - ETA: 0s - loss: 2.7830 - acc: 0.2926Epoch 00051: val_loss improved from 3.13650 to 3.11860, saving model to saved_models/weights.best.from_scratch.hdf5\n",
      "334/334 [==============================] - 30s - loss: 2.7814 - acc: 0.2930 - val_loss: 3.1186 - val_acc: 0.2383\n",
      "Epoch 53/200\n",
      "333/334 [============================>.] - ETA: 0s - loss: 2.7281 - acc: 0.2986Epoch 00052: val_loss did not improve\n",
      "334/334 [==============================] - 30s - loss: 2.7277 - acc: 0.2987 - val_loss: 3.2152 - val_acc: 0.2323\n",
      "Epoch 54/200\n",
      "333/334 [============================>.] - ETA: 0s - loss: 2.7299 - acc: 0.3036Epoch 00053: val_loss improved from 3.11860 to 3.07534, saving model to saved_models/weights.best.from_scratch.hdf5\n",
      "334/334 [==============================] - 30s - loss: 2.7298 - acc: 0.3034 - val_loss: 3.0753 - val_acc: 0.2527\n",
      "Epoch 55/200\n",
      "333/334 [============================>.] - ETA: 0s - loss: 2.6782 - acc: 0.3092Epoch 00054: val_loss did not improve\n"
     ]
    },
    {
     "name": "stdout",
     "output_type": "stream",
     "text": [
      "334/334 [==============================] - 30s - loss: 2.6787 - acc: 0.3091 - val_loss: 3.0793 - val_acc: 0.2623\n",
      "Epoch 56/200\n",
      "333/334 [============================>.] - ETA: 0s - loss: 2.6719 - acc: 0.3057Epoch 00055: val_loss did not improve\n",
      "334/334 [==============================] - 31s - loss: 2.6714 - acc: 0.3061 - val_loss: 3.0802 - val_acc: 0.2527\n",
      "Epoch 57/200\n",
      "333/334 [============================>.] - ETA: 0s - loss: 2.6471 - acc: 0.3069Epoch 00056: val_loss did not improve\n",
      "334/334 [==============================] - 30s - loss: 2.6469 - acc: 0.3069 - val_loss: 3.0827 - val_acc: 0.2515\n",
      "Epoch 58/200\n",
      "333/334 [============================>.] - ETA: 0s - loss: 2.6064 - acc: 0.3239Epoch 00057: val_loss improved from 3.07534 to 3.02121, saving model to saved_models/weights.best.from_scratch.hdf5\n",
      "334/334 [==============================] - 30s - loss: 2.6061 - acc: 0.3237 - val_loss: 3.0212 - val_acc: 0.2599\n",
      "Epoch 59/200\n",
      "333/334 [============================>.] - ETA: 0s - loss: 2.5785 - acc: 0.3252Epoch 00058: val_loss improved from 3.02121 to 3.01715, saving model to saved_models/weights.best.from_scratch.hdf5\n",
      "334/334 [==============================] - 30s - loss: 2.5808 - acc: 0.3250 - val_loss: 3.0171 - val_acc: 0.2611\n",
      "Epoch 60/200\n",
      "333/334 [============================>.] - ETA: 0s - loss: 2.5491 - acc: 0.3267Epoch 00059: val_loss did not improve\n",
      "334/334 [==============================] - 30s - loss: 2.5511 - acc: 0.3263 - val_loss: 3.0961 - val_acc: 0.2551\n",
      "Epoch 61/200\n",
      "333/334 [============================>.] - ETA: 0s - loss: 2.5529 - acc: 0.3302Epoch 00060: val_loss improved from 3.01715 to 3.01669, saving model to saved_models/weights.best.from_scratch.hdf5\n",
      "334/334 [==============================] - 30s - loss: 2.5545 - acc: 0.3299 - val_loss: 3.0167 - val_acc: 0.2467\n",
      "Epoch 62/200\n",
      "333/334 [============================>.] - ETA: 0s - loss: 2.5105 - acc: 0.3366Epoch 00061: val_loss did not improve\n",
      "334/334 [==============================] - 30s - loss: 2.5108 - acc: 0.3368 - val_loss: 3.0577 - val_acc: 0.2599\n",
      "Epoch 63/200\n",
      "333/334 [============================>.] - ETA: 0s - loss: 2.4884 - acc: 0.3464Epoch 00062: val_loss did not improve\n",
      "334/334 [==============================] - 30s - loss: 2.4873 - acc: 0.3466 - val_loss: 3.0630 - val_acc: 0.2491\n",
      "Epoch 64/200\n",
      "333/334 [============================>.] - ETA: 0s - loss: 2.4822 - acc: 0.3529Epoch 00063: val_loss improved from 3.01669 to 3.00782, saving model to saved_models/weights.best.from_scratch.hdf5\n",
      "334/334 [==============================] - 30s - loss: 2.4813 - acc: 0.3527 - val_loss: 3.0078 - val_acc: 0.2814\n",
      "Epoch 65/200\n",
      "333/334 [============================>.] - ETA: 0s - loss: 2.4537 - acc: 0.3526Epoch 00064: val_loss did not improve\n",
      "334/334 [==============================] - 30s - loss: 2.4530 - acc: 0.3530 - val_loss: 3.0214 - val_acc: 0.2754\n",
      "Epoch 66/200\n",
      "333/334 [============================>.] - ETA: 0s - loss: 2.4215 - acc: 0.3548Epoch 00065: val_loss did not improve\n",
      "334/334 [==============================] - 30s - loss: 2.4223 - acc: 0.3548 - val_loss: 3.0859 - val_acc: 0.2707\n",
      "Epoch 67/200\n",
      "333/334 [============================>.] - ETA: 0s - loss: 2.4323 - acc: 0.3517Epoch 00066: val_loss improved from 3.00782 to 2.96263, saving model to saved_models/weights.best.from_scratch.hdf5\n",
      "334/334 [==============================] - 30s - loss: 2.4335 - acc: 0.3512 - val_loss: 2.9626 - val_acc: 0.2862\n",
      "Epoch 68/200\n",
      "333/334 [============================>.] - ETA: 0s - loss: 2.3979 - acc: 0.3650Epoch 00067: val_loss improved from 2.96263 to 2.93489, saving model to saved_models/weights.best.from_scratch.hdf5\n",
      "334/334 [==============================] - 30s - loss: 2.3964 - acc: 0.3654 - val_loss: 2.9349 - val_acc: 0.2790\n",
      "Epoch 69/200\n",
      "333/334 [============================>.] - ETA: 0s - loss: 2.3654 - acc: 0.3725Epoch 00068: val_loss improved from 2.93489 to 2.93425, saving model to saved_models/weights.best.from_scratch.hdf5\n",
      "334/334 [==============================] - 30s - loss: 2.3654 - acc: 0.3726 - val_loss: 2.9342 - val_acc: 0.2922\n",
      "Epoch 70/200\n",
      "333/334 [============================>.] - ETA: 0s - loss: 2.3324 - acc: 0.3761Epoch 00069: val_loss improved from 2.93425 to 2.90270, saving model to saved_models/weights.best.from_scratch.hdf5\n",
      "334/334 [==============================] - 30s - loss: 2.3331 - acc: 0.3756 - val_loss: 2.9027 - val_acc: 0.2874\n",
      "Epoch 71/200\n",
      "333/334 [============================>.] - ETA: 0s - loss: 2.3321 - acc: 0.3760Epoch 00070: val_loss did not improve\n",
      "334/334 [==============================] - 30s - loss: 2.3322 - acc: 0.3760 - val_loss: 2.9993 - val_acc: 0.2910\n",
      "Epoch 72/200\n",
      "333/334 [============================>.] - ETA: 0s - loss: 2.3360 - acc: 0.3755Epoch 00071: val_loss did not improve\n",
      "334/334 [==============================] - 30s - loss: 2.3358 - acc: 0.3756 - val_loss: 2.9824 - val_acc: 0.2934\n",
      "Epoch 73/200\n",
      "333/334 [============================>.] - ETA: 0s - loss: 2.2978 - acc: 0.3820Epoch 00072: val_loss did not improve\n",
      "334/334 [==============================] - 30s - loss: 2.2985 - acc: 0.3816 - val_loss: 2.9346 - val_acc: 0.2994\n",
      "Epoch 74/200\n",
      "333/334 [============================>.] - ETA: 0s - loss: 2.2711 - acc: 0.3839Epoch 00073: val_loss improved from 2.90270 to 2.89288, saving model to saved_models/weights.best.from_scratch.hdf5\n",
      "334/334 [==============================] - 30s - loss: 2.2727 - acc: 0.3834 - val_loss: 2.8929 - val_acc: 0.2994\n",
      "Epoch 75/200\n",
      "333/334 [============================>.] - ETA: 0s - loss: 2.2733 - acc: 0.3838Epoch 00074: val_loss did not improve\n",
      "334/334 [==============================] - 30s - loss: 2.2724 - acc: 0.3838 - val_loss: 2.9038 - val_acc: 0.2910\n",
      "Epoch 76/200\n",
      "333/334 [============================>.] - ETA: 0s - loss: 2.2306 - acc: 0.4006Epoch 00075: val_loss did not improve\n",
      "334/334 [==============================] - 30s - loss: 2.2302 - acc: 0.4003 - val_loss: 3.0647 - val_acc: 0.3126\n",
      "Epoch 77/200\n",
      "333/334 [============================>.] - ETA: 0s - loss: 2.2476 - acc: 0.3884Epoch 00076: val_loss did not improve\n",
      "334/334 [==============================] - 30s - loss: 2.2464 - acc: 0.3886 - val_loss: 2.9303 - val_acc: 0.2874\n",
      "Epoch 78/200\n",
      "333/334 [============================>.] - ETA: 0s - loss: 2.1915 - acc: 0.4048Epoch 00077: val_loss did not improve\n",
      "334/334 [==============================] - 30s - loss: 2.1911 - acc: 0.4049 - val_loss: 2.9347 - val_acc: 0.3042\n",
      "Epoch 79/200\n",
      "333/334 [============================>.] - ETA: 0s - loss: 2.1908 - acc: 0.4099Epoch 00078: val_loss did not improve\n",
      "334/334 [==============================] - 30s - loss: 2.1912 - acc: 0.4097 - val_loss: 2.9063 - val_acc: 0.2934\n",
      "Epoch 80/200\n",
      "333/334 [============================>.] - ETA: 0s - loss: 2.2099 - acc: 0.3976Epoch 00079: val_loss did not improve\n",
      "334/334 [==============================] - 30s - loss: 2.2110 - acc: 0.3972 - val_loss: 2.9085 - val_acc: 0.3006\n",
      "Epoch 81/200\n",
      "333/334 [============================>.] - ETA: 0s - loss: 2.1533 - acc: 0.4204Epoch 00080: val_loss did not improve\n",
      "334/334 [==============================] - 30s - loss: 2.1539 - acc: 0.4199 - val_loss: 2.9841 - val_acc: 0.2838\n",
      "Epoch 82/200\n",
      "333/334 [============================>.] - ETA: 0s - loss: 2.1436 - acc: 0.4143Epoch 00081: val_loss did not improve\n",
      "334/334 [==============================] - 30s - loss: 2.1429 - acc: 0.4139 - val_loss: 2.9682 - val_acc: 0.3066\n",
      "Epoch 83/200\n",
      "333/334 [============================>.] - ETA: 0s - loss: 2.1562 - acc: 0.4102Epoch 00082: val_loss improved from 2.89288 to 2.87919, saving model to saved_models/weights.best.from_scratch.hdf5\n",
      "334/334 [==============================] - 30s - loss: 2.1583 - acc: 0.4103 - val_loss: 2.8792 - val_acc: 0.2970\n",
      "Epoch 84/200\n",
      "333/334 [============================>.] - ETA: 0s - loss: 2.0906 - acc: 0.4207- ETA: 0s - loss: 2.0854 - acEpoch 00083: val_loss improved from 2.87919 to 2.84809, saving model to saved_models/weights.best.from_scratch.hdf5\n",
      "334/334 [==============================] - 30s - loss: 2.0888 - acc: 0.4211 - val_loss: 2.8481 - val_acc: 0.3186\n",
      "Epoch 85/200\n",
      "333/334 [============================>.] - ETA: 0s - loss: 2.1028 - acc: 0.4233Epoch 00084: val_loss did not improve\n",
      "334/334 [==============================] - 30s - loss: 2.1011 - acc: 0.4240 - val_loss: 2.8501 - val_acc: 0.3281\n",
      "Epoch 86/200\n",
      "333/334 [============================>.] - ETA: 0s - loss: 2.0825 - acc: 0.4275- ETA: 1s - loss: 2.07Epoch 00085: val_loss improved from 2.84809 to 2.83746, saving model to saved_models/weights.best.from_scratch.hdf5\n",
      "334/334 [==============================] - 30s - loss: 2.0810 - acc: 0.4280 - val_loss: 2.8375 - val_acc: 0.2994\n",
      "Epoch 87/200\n",
      "333/334 [============================>.] - ETA: 0s - loss: 2.0722 - acc: 0.4333Epoch 00086: val_loss did not improve\n",
      "334/334 [==============================] - 30s - loss: 2.0721 - acc: 0.4334 - val_loss: 2.8698 - val_acc: 0.3090\n",
      "Epoch 88/200\n",
      "333/334 [============================>.] - ETA: 0s - loss: 2.0639 - acc: 0.4272Epoch 00087: val_loss improved from 2.83746 to 2.81470, saving model to saved_models/weights.best.from_scratch.hdf5\n",
      "334/334 [==============================] - 30s - loss: 2.0631 - acc: 0.4274 - val_loss: 2.8147 - val_acc: 0.3246\n",
      "Epoch 89/200\n",
      "333/334 [============================>.] - ETA: 0s - loss: 2.0644 - acc: 0.4314Epoch 00088: val_loss did not improve\n",
      "334/334 [==============================] - 30s - loss: 2.0637 - acc: 0.4313 - val_loss: 2.8305 - val_acc: 0.3377\n",
      "Epoch 90/200\n",
      "333/334 [============================>.] - ETA: 0s - loss: 2.0249 - acc: 0.4410Epoch 00089: val_loss did not improve\n",
      "334/334 [==============================] - 30s - loss: 2.0231 - acc: 0.4415 - val_loss: 2.8380 - val_acc: 0.3234\n",
      "Epoch 91/200\n",
      "333/334 [============================>.] - ETA: 0s - loss: 2.0199 - acc: 0.4434Epoch 00090: val_loss did not improve\n",
      "334/334 [==============================] - 30s - loss: 2.0197 - acc: 0.4433 - val_loss: 2.8499 - val_acc: 0.3437\n",
      "Epoch 92/200\n",
      "333/334 [============================>.] - ETA: 0s - loss: 2.0181 - acc: 0.4411Epoch 00091: val_loss did not improve\n",
      "334/334 [==============================] - 30s - loss: 2.0160 - acc: 0.4418 - val_loss: 2.9893 - val_acc: 0.2982\n",
      "Epoch 93/200\n",
      "333/334 [============================>.] - ETA: 0s - loss: 1.9837 - acc: 0.4477Epoch 00092: val_loss did not improve\n",
      "334/334 [==============================] - 30s - loss: 1.9834 - acc: 0.4481 - val_loss: 2.8408 - val_acc: 0.3234\n",
      "Epoch 94/200\n",
      "333/334 [============================>.] - ETA: 0s - loss: 1.9435 - acc: 0.4607Epoch 00093: val_loss did not improve\n",
      "334/334 [==============================] - 30s - loss: 1.9446 - acc: 0.4605 - val_loss: 2.9011 - val_acc: 0.3269\n",
      "Epoch 95/200\n",
      "333/334 [============================>.] - ETA: 0s - loss: 1.9782 - acc: 0.4565Epoch 00094: val_loss did not improve\n",
      "334/334 [==============================] - 30s - loss: 1.9807 - acc: 0.4561 - val_loss: 2.8324 - val_acc: 0.3377\n",
      "Epoch 96/200\n",
      "333/334 [============================>.] - ETA: 0s - loss: 1.9445 - acc: 0.4586Epoch 00095: val_loss did not improve\n",
      "334/334 [==============================] - 30s - loss: 1.9454 - acc: 0.4579 - val_loss: 2.8709 - val_acc: 0.3281\n",
      "Epoch 97/200\n",
      "333/334 [============================>.] - ETA: 0s - loss: 1.9372 - acc: 0.4641Epoch 00096: val_loss did not improve\n",
      "334/334 [==============================] - 30s - loss: 1.9376 - acc: 0.4639 - val_loss: 2.8181 - val_acc: 0.3341\n",
      "Epoch 98/200\n",
      "333/334 [============================>.] - ETA: 0s - loss: 1.9491 - acc: 0.4637Epoch 00097: val_loss did not improve\n",
      "334/334 [==============================] - 30s - loss: 1.9487 - acc: 0.4633 - val_loss: 2.8377 - val_acc: 0.3222\n",
      "Epoch 99/200\n",
      "333/334 [============================>.] - ETA: 0s - loss: 1.9295 - acc: 0.4596Epoch 00098: val_loss did not improve\n",
      "334/334 [==============================] - 30s - loss: 1.9303 - acc: 0.4597 - val_loss: 2.9000 - val_acc: 0.3042\n",
      "Epoch 100/200\n",
      "333/334 [============================>.] - ETA: 0s - loss: 1.8976 - acc: 0.4685Epoch 00099: val_loss did not improve\n",
      "334/334 [==============================] - 30s - loss: 1.8970 - acc: 0.4687 - val_loss: 2.9260 - val_acc: 0.3485\n",
      "Epoch 101/200\n",
      "333/334 [============================>.] - ETA: 0s - loss: 1.9292 - acc: 0.4604Epoch 00100: val_loss did not improve\n",
      "334/334 [==============================] - 30s - loss: 1.9298 - acc: 0.4603 - val_loss: 2.9808 - val_acc: 0.3257\n",
      "Epoch 102/200\n",
      "333/334 [============================>.] - ETA: 0s - loss: 1.9043 - acc: 0.4605Epoch 00101: val_loss did not improve\n",
      "334/334 [==============================] - 30s - loss: 1.9050 - acc: 0.4606 - val_loss: 2.8701 - val_acc: 0.3449\n",
      "Epoch 103/200\n",
      "333/334 [============================>.] - ETA: 0s - loss: 1.8687 - acc: 0.4757Epoch 00102: val_loss did not improve\n",
      "334/334 [==============================] - 30s - loss: 1.8677 - acc: 0.4762 - val_loss: 2.8803 - val_acc: 0.3246\n",
      "Epoch 104/200\n",
      "333/334 [============================>.] - ETA: 0s - loss: 1.8770 - acc: 0.4784Epoch 00103: val_loss improved from 2.81470 to 2.80693, saving model to saved_models/weights.best.from_scratch.hdf5\n",
      "334/334 [==============================] - 30s - loss: 1.8776 - acc: 0.4780 - val_loss: 2.8069 - val_acc: 0.3461\n",
      "Epoch 105/200\n",
      "333/334 [============================>.] - ETA: 0s - loss: 1.8583 - acc: 0.4737Epoch 00104: val_loss did not improve\n",
      "334/334 [==============================] - 30s - loss: 1.8574 - acc: 0.4737 - val_loss: 2.8454 - val_acc: 0.3365\n",
      "Epoch 106/200\n",
      "333/334 [============================>.] - ETA: 0s - loss: 1.8610 - acc: 0.4779Epoch 00105: val_loss did not improve\n",
      "334/334 [==============================] - 30s - loss: 1.8602 - acc: 0.4783 - val_loss: 2.8479 - val_acc: 0.3509\n",
      "Epoch 107/200\n",
      "333/334 [============================>.] - ETA: 0s - loss: 1.8220 - acc: 0.4895- ETA:Epoch 00106: val_loss improved from 2.80693 to 2.79557, saving model to saved_models/weights.best.from_scratch.hdf5\n",
      "334/334 [==============================] - 30s - loss: 1.8215 - acc: 0.4898 - val_loss: 2.7956 - val_acc: 0.3389\n",
      "Epoch 108/200\n",
      "333/334 [============================>.] - ETA: 0s - loss: 1.8171 - acc: 0.4824Epoch 00107: val_loss did not improve\n",
      "334/334 [==============================] - 30s - loss: 1.8179 - acc: 0.4822 - val_loss: 2.8018 - val_acc: 0.3293\n",
      "Epoch 109/200\n",
      "333/334 [============================>.] - ETA: 0s - loss: 1.8511 - acc: 0.4815Epoch 00108: val_loss did not improve\n",
      "334/334 [==============================] - 30s - loss: 1.8520 - acc: 0.4814 - val_loss: 2.8973 - val_acc: 0.3102\n",
      "Epoch 110/200\n",
      "333/334 [============================>.] - ETA: 0s - loss: 1.8104 - acc: 0.4824Epoch 00109: val_loss did not improve\n",
      "334/334 [==============================] - 31s - loss: 1.8103 - acc: 0.4822 - val_loss: 2.8787 - val_acc: 0.3485\n",
      "Epoch 111/200\n",
      "333/334 [============================>.] - ETA: 0s - loss: 1.8075 - acc: 0.4821Epoch 00110: val_loss did not improve\n",
      "334/334 [==============================] - 31s - loss: 1.8087 - acc: 0.4822 - val_loss: 2.8585 - val_acc: 0.3425\n",
      "Epoch 112/200\n",
      "333/334 [============================>.] - ETA: 0s - loss: 1.7984 - acc: 0.4974Epoch 00111: val_loss did not improve\n",
      "334/334 [==============================] - 31s - loss: 1.7983 - acc: 0.4976 - val_loss: 2.8951 - val_acc: 0.3341\n",
      "Epoch 113/200\n",
      "333/334 [============================>.] - ETA: 0s - loss: 1.7865 - acc: 0.4949Epoch 00112: val_loss improved from 2.79557 to 2.77065, saving model to saved_models/weights.best.from_scratch.hdf5\n",
      "334/334 [==============================] - 31s - loss: 1.7877 - acc: 0.4945 - val_loss: 2.7706 - val_acc: 0.3473\n",
      "Epoch 114/200\n",
      "333/334 [============================>.] - ETA: 0s - loss: 1.7596 - acc: 0.5135Epoch 00113: val_loss did not improve\n",
      "334/334 [==============================] - 31s - loss: 1.7606 - acc: 0.5133 - val_loss: 2.9305 - val_acc: 0.3521\n",
      "Epoch 115/200\n",
      "333/334 [============================>.] - ETA: 0s - loss: 1.8016 - acc: 0.4838Epoch 00114: val_loss did not improve\n",
      "334/334 [==============================] - 30s - loss: 1.8006 - acc: 0.4835 - val_loss: 2.8408 - val_acc: 0.3401\n",
      "Epoch 116/200\n",
      "333/334 [============================>.] - ETA: 0s - loss: 1.7346 - acc: 0.5042Epoch 00115: val_loss did not improve\n",
      "334/334 [==============================] - 31s - loss: 1.7353 - acc: 0.5040 - val_loss: 2.8350 - val_acc: 0.3497\n",
      "Epoch 117/200\n",
      "333/334 [============================>.] - ETA: 0s - loss: 1.7494 - acc: 0.5017Epoch 00116: val_loss did not improve\n"
     ]
    },
    {
     "name": "stdout",
     "output_type": "stream",
     "text": [
      "334/334 [==============================] - 31s - loss: 1.7481 - acc: 0.5018 - val_loss: 2.8950 - val_acc: 0.3461\n",
      "Epoch 118/200\n",
      "333/334 [============================>.] - ETA: 0s - loss: 1.7312 - acc: 0.5153Epoch 00117: val_loss did not improve\n",
      "334/334 [==============================] - 31s - loss: 1.7313 - acc: 0.5150 - val_loss: 2.9196 - val_acc: 0.3449\n",
      "Epoch 119/200\n",
      "333/334 [============================>.] - ETA: 0s - loss: 1.7305 - acc: 0.5047Epoch 00118: val_loss did not improve\n",
      "334/334 [==============================] - 31s - loss: 1.7331 - acc: 0.5043 - val_loss: 2.8540 - val_acc: 0.3186\n",
      "Epoch 120/200\n",
      "333/334 [============================>.] - ETA: 0s - loss: 1.7059 - acc: 0.5135Epoch 00119: val_loss did not improve\n",
      "334/334 [==============================] - 31s - loss: 1.7077 - acc: 0.5130 - val_loss: 2.8644 - val_acc: 0.3605\n",
      "Epoch 121/200\n",
      "333/334 [============================>.] - ETA: 0s - loss: 1.7143 - acc: 0.5180Epoch 00120: val_loss did not improve\n",
      "334/334 [==============================] - 31s - loss: 1.7131 - acc: 0.5187 - val_loss: 2.8391 - val_acc: 0.3533\n",
      "Epoch 122/200\n",
      "333/334 [============================>.] - ETA: 0s - loss: 1.6847 - acc: 0.5131Epoch 00121: val_loss did not improve\n",
      "334/334 [==============================] - 31s - loss: 1.6846 - acc: 0.5133 - val_loss: 2.8024 - val_acc: 0.3437\n",
      "Epoch 123/200\n",
      "333/334 [============================>.] - ETA: 0s - loss: 1.7103 - acc: 0.5191Epoch 00122: val_loss did not improve\n",
      "334/334 [==============================] - 31s - loss: 1.7118 - acc: 0.5189 - val_loss: 2.9966 - val_acc: 0.3497\n",
      "Epoch 124/200\n",
      "333/334 [============================>.] - ETA: 0s - loss: 1.7194 - acc: 0.5110Epoch 00123: val_loss did not improve\n",
      "334/334 [==============================] - 30s - loss: 1.7187 - acc: 0.5112 - val_loss: 2.8787 - val_acc: 0.3545\n",
      "Epoch 125/200\n",
      "333/334 [============================>.] - ETA: 0s - loss: 1.6690 - acc: 0.5254Epoch 00124: val_loss improved from 2.77065 to 2.75426, saving model to saved_models/weights.best.from_scratch.hdf5\n",
      "334/334 [==============================] - 31s - loss: 1.6680 - acc: 0.5257 - val_loss: 2.7543 - val_acc: 0.3533\n",
      "Epoch 126/200\n",
      "333/334 [============================>.] - ETA: 0s - loss: 1.6784 - acc: 0.5185Epoch 00125: val_loss did not improve\n",
      "334/334 [==============================] - 31s - loss: 1.6773 - acc: 0.5186 - val_loss: 2.8912 - val_acc: 0.3449\n",
      "Epoch 127/200\n",
      "333/334 [============================>.] - ETA: 0s - loss: 1.6702 - acc: 0.5192Epoch 00126: val_loss did not improve\n",
      "334/334 [==============================] - 31s - loss: 1.6687 - acc: 0.5198 - val_loss: 2.8236 - val_acc: 0.3413\n",
      "Epoch 128/200\n",
      "333/334 [============================>.] - ETA: 0s - loss: 1.6603 - acc: 0.5243Epoch 00127: val_loss did not improve\n",
      "334/334 [==============================] - 30s - loss: 1.6596 - acc: 0.5246 - val_loss: 2.8082 - val_acc: 0.3174\n",
      "Epoch 129/200\n",
      "333/334 [============================>.] - ETA: 0s - loss: 1.6356 - acc: 0.5329Epoch 00128: val_loss did not improve\n",
      "334/334 [==============================] - 31s - loss: 1.6375 - acc: 0.5326 - val_loss: 2.9500 - val_acc: 0.3557\n",
      "Epoch 130/200\n",
      "333/334 [============================>.] - ETA: 0s - loss: 1.6708 - acc: 0.5189Epoch 00129: val_loss did not improve\n",
      "334/334 [==============================] - 30s - loss: 1.6727 - acc: 0.5184 - val_loss: 2.9308 - val_acc: 0.3389\n",
      "Epoch 131/200\n",
      "333/334 [============================>.] - ETA: 0s - loss: 1.6513 - acc: 0.5288Epoch 00130: val_loss did not improve\n",
      "334/334 [==============================] - 31s - loss: 1.6516 - acc: 0.5287 - val_loss: 2.8939 - val_acc: 0.3317\n",
      "Epoch 132/200\n",
      "333/334 [============================>.] - ETA: 0s - loss: 1.6175 - acc: 0.5350Epoch 00131: val_loss did not improve\n",
      "334/334 [==============================] - 31s - loss: 1.6167 - acc: 0.5355 - val_loss: 2.9251 - val_acc: 0.3521\n",
      "Epoch 133/200\n",
      "333/334 [============================>.] - ETA: 0s - loss: 1.6283 - acc: 0.5326Epoch 00132: val_loss did not improve\n",
      "334/334 [==============================] - 31s - loss: 1.6313 - acc: 0.5319 - val_loss: 2.8450 - val_acc: 0.3377\n",
      "Epoch 134/200\n",
      "333/334 [============================>.] - ETA: 0s - loss: 1.6383 - acc: 0.5299Epoch 00133: val_loss did not improve\n",
      "334/334 [==============================] - 31s - loss: 1.6388 - acc: 0.5299 - val_loss: 2.8854 - val_acc: 0.3257\n",
      "Epoch 135/200\n",
      "333/334 [============================>.] - ETA: 0s - loss: 1.6057 - acc: 0.5372Epoch 00134: val_loss did not improve\n",
      "334/334 [==============================] - 31s - loss: 1.6061 - acc: 0.5373 - val_loss: 2.8388 - val_acc: 0.3509\n",
      "Epoch 136/200\n",
      "333/334 [============================>.] - ETA: 0s - loss: 1.6149 - acc: 0.5384Epoch 00135: val_loss did not improve\n",
      "334/334 [==============================] - 31s - loss: 1.6149 - acc: 0.5382 - val_loss: 2.9495 - val_acc: 0.3281\n",
      "Epoch 137/200\n",
      "333/334 [============================>.] - ETA: 0s - loss: 1.5896 - acc: 0.5312Epoch 00136: val_loss did not improve\n",
      "334/334 [==============================] - 31s - loss: 1.5909 - acc: 0.5311 - val_loss: 2.8268 - val_acc: 0.3485\n",
      "Epoch 138/200\n",
      "333/334 [============================>.] - ETA: 0s - loss: 1.6206 - acc: 0.5444Epoch 00137: val_loss did not improve\n",
      "334/334 [==============================] - 31s - loss: 1.6201 - acc: 0.5448 - val_loss: 2.9288 - val_acc: 0.3413\n",
      "Epoch 139/200\n",
      "333/334 [============================>.] - ETA: 0s - loss: 1.6015 - acc: 0.5426Epoch 00138: val_loss did not improve\n",
      "334/334 [==============================] - 31s - loss: 1.6003 - acc: 0.5428 - val_loss: 2.8826 - val_acc: 0.3569\n",
      "Epoch 140/200\n",
      "333/334 [============================>.] - ETA: 0s - loss: 1.5784 - acc: 0.5509Epoch 00139: val_loss did not improve\n",
      "334/334 [==============================] - 31s - loss: 1.5781 - acc: 0.5512 - val_loss: 2.8360 - val_acc: 0.3629\n",
      "Epoch 141/200\n",
      "333/334 [============================>.] - ETA: 0s - loss: 1.5858 - acc: 0.5459- ETA: 0s - loss: 1.5877 - acc:Epoch 00140: val_loss did not improve\n",
      "334/334 [==============================] - 31s - loss: 1.5861 - acc: 0.5460 - val_loss: 3.0155 - val_acc: 0.3281\n",
      "Epoch 142/200\n",
      "333/334 [============================>.] - ETA: 0s - loss: 1.5345 - acc: 0.5479- EEpoch 00141: val_loss did not improve\n",
      "334/334 [==============================] - 30s - loss: 1.5334 - acc: 0.5482 - val_loss: 2.8591 - val_acc: 0.3521\n",
      "Epoch 143/200\n",
      "333/334 [============================>.] - ETA: 0s - loss: 1.5459 - acc: 0.5435Epoch 00142: val_loss did not improve\n",
      "334/334 [==============================] - 30s - loss: 1.5453 - acc: 0.5439 - val_loss: 2.9175 - val_acc: 0.3497\n",
      "Epoch 144/200\n",
      "333/334 [============================>.] - ETA: 0s - loss: 1.5609 - acc: 0.5461Epoch 00143: val_loss did not improve\n",
      "334/334 [==============================] - 30s - loss: 1.5611 - acc: 0.5461 - val_loss: 2.8283 - val_acc: 0.3701\n",
      "Epoch 145/200\n",
      "333/334 [============================>.] - ETA: 0s - loss: 1.5221 - acc: 0.5550Epoch 00144: val_loss did not improve\n",
      "334/334 [==============================] - 30s - loss: 1.5237 - acc: 0.5549 - val_loss: 2.8906 - val_acc: 0.3257\n",
      "Epoch 146/200\n",
      "333/334 [============================>.] - ETA: 0s - loss: 1.5835 - acc: 0.5476Epoch 00145: val_loss did not improve\n",
      "334/334 [==============================] - 30s - loss: 1.5818 - acc: 0.5482 - val_loss: 2.8069 - val_acc: 0.3461\n",
      "Epoch 147/200\n",
      "333/334 [============================>.] - ETA: 0s - loss: 1.5335 - acc: 0.5601Epoch 00146: val_loss did not improve\n",
      "334/334 [==============================] - 30s - loss: 1.5342 - acc: 0.5600 - val_loss: 2.9126 - val_acc: 0.3365\n",
      "Epoch 148/200\n",
      "333/334 [============================>.] - ETA: 0s - loss: 1.5507 - acc: 0.5523Epoch 00147: val_loss did not improve\n",
      "334/334 [==============================] - 30s - loss: 1.5526 - acc: 0.5518 - val_loss: 2.8892 - val_acc: 0.3629\n",
      "Epoch 149/200\n",
      "333/334 [============================>.] - ETA: 0s - loss: 1.5303 - acc: 0.5529Epoch 00148: val_loss did not improve\n",
      "334/334 [==============================] - 30s - loss: 1.5297 - acc: 0.5528 - val_loss: 2.8257 - val_acc: 0.3689\n",
      "Epoch 150/200\n",
      "333/334 [============================>.] - ETA: 0s - loss: 1.5059 - acc: 0.5581Epoch 00149: val_loss did not improve\n",
      "334/334 [==============================] - 30s - loss: 1.5078 - acc: 0.5578 - val_loss: 2.9590 - val_acc: 0.3293\n",
      "Epoch 151/200\n",
      "333/334 [============================>.] - ETA: 0s - loss: 1.5155 - acc: 0.5592Epoch 00150: val_loss did not improve\n",
      "334/334 [==============================] - 30s - loss: 1.5161 - acc: 0.5590 - val_loss: 2.8875 - val_acc: 0.3401\n",
      "Epoch 152/200\n",
      "333/334 [============================>.] - ETA: 0s - loss: 1.5240 - acc: 0.5629Epoch 00151: val_loss did not improve\n",
      "334/334 [==============================] - 30s - loss: 1.5226 - acc: 0.5633 - val_loss: 2.9319 - val_acc: 0.3509\n",
      "Epoch 153/200\n",
      "333/334 [============================>.] - ETA: 0s - loss: 1.5210 - acc: 0.5598Epoch 00152: val_loss did not improve\n",
      "334/334 [==============================] - 31s - loss: 1.5221 - acc: 0.5599 - val_loss: 2.9559 - val_acc: 0.3533\n",
      "Epoch 154/200\n",
      "333/334 [============================>.] - ETA: 0s - loss: 1.5221 - acc: 0.5560Epoch 00153: val_loss did not improve\n",
      "334/334 [==============================] - 30s - loss: 1.5206 - acc: 0.5564 - val_loss: 2.9998 - val_acc: 0.3389\n",
      "Epoch 155/200\n",
      "333/334 [============================>.] - ETA: 0s - loss: 1.4758 - acc: 0.5755Epoch 00154: val_loss did not improve\n",
      "334/334 [==============================] - 30s - loss: 1.4754 - acc: 0.5753 - val_loss: 3.1227 - val_acc: 0.3461\n",
      "Epoch 156/200\n",
      "333/334 [============================>.] - ETA: 0s - loss: 1.4863 - acc: 0.5649Epoch 00155: val_loss did not improve\n",
      "334/334 [==============================] - 30s - loss: 1.4852 - acc: 0.5653 - val_loss: 2.9817 - val_acc: 0.3593\n",
      "Epoch 157/200\n",
      "333/334 [============================>.] - ETA: 0s - loss: 1.4860 - acc: 0.5674Epoch 00156: val_loss did not improve\n",
      "334/334 [==============================] - 31s - loss: 1.4860 - acc: 0.5677 - val_loss: 2.9023 - val_acc: 0.3353\n",
      "Epoch 158/200\n",
      "333/334 [============================>.] - ETA: 0s - loss: 1.5078 - acc: 0.5568Epoch 00157: val_loss did not improve\n",
      "334/334 [==============================] - 30s - loss: 1.5074 - acc: 0.5564 - val_loss: 2.9271 - val_acc: 0.3605\n",
      "Epoch 159/200\n",
      "333/334 [============================>.] - ETA: 0s - loss: 1.4530 - acc: 0.5754Epoch 00158: val_loss did not improve\n",
      "334/334 [==============================] - 30s - loss: 1.4531 - acc: 0.5753 - val_loss: 2.8722 - val_acc: 0.3677\n",
      "Epoch 160/200\n",
      "333/334 [============================>.] - ETA: 0s - loss: 1.4945 - acc: 0.5580Epoch 00159: val_loss did not improve\n",
      "334/334 [==============================] - 30s - loss: 1.4954 - acc: 0.5578 - val_loss: 2.9496 - val_acc: 0.3689\n",
      "Epoch 161/200\n",
      "333/334 [============================>.] - ETA: 0s - loss: 1.4519 - acc: 0.5763Epoch 00160: val_loss did not improve\n",
      "334/334 [==============================] - 30s - loss: 1.4519 - acc: 0.5757 - val_loss: 3.0295 - val_acc: 0.3617\n",
      "Epoch 162/200\n",
      "333/334 [============================>.] - ETA: 0s - loss: 1.5036 - acc: 0.5664Epoch 00161: val_loss did not improve\n",
      "334/334 [==============================] - 30s - loss: 1.5037 - acc: 0.5659 - val_loss: 2.9142 - val_acc: 0.3617\n",
      "Epoch 163/200\n",
      "333/334 [============================>.] - ETA: 0s - loss: 1.4561 - acc: 0.5721Epoch 00162: val_loss did not improve\n",
      "334/334 [==============================] - 30s - loss: 1.4558 - acc: 0.5722 - val_loss: 3.0804 - val_acc: 0.3365\n",
      "Epoch 164/200\n",
      "333/334 [============================>.] - ETA: 0s - loss: 1.4579 - acc: 0.5749Epoch 00163: val_loss did not improve\n",
      "334/334 [==============================] - 30s - loss: 1.4592 - acc: 0.5747 - val_loss: 2.9244 - val_acc: 0.3617\n",
      "Epoch 165/200\n",
      "333/334 [============================>.] - ETA: 0s - loss: 1.4275 - acc: 0.5815Epoch 00164: val_loss did not improve\n",
      "334/334 [==============================] - 30s - loss: 1.4272 - acc: 0.5817 - val_loss: 2.9130 - val_acc: 0.3593\n",
      "Epoch 166/200\n",
      "333/334 [============================>.] - ETA: 0s - loss: 1.4651 - acc: 0.5763Epoch 00165: val_loss did not improve\n",
      "334/334 [==============================] - 30s - loss: 1.4651 - acc: 0.5766 - val_loss: 2.8733 - val_acc: 0.3725\n",
      "Epoch 167/200\n",
      "333/334 [============================>.] - ETA: 0s - loss: 1.4500 - acc: 0.5778Epoch 00166: val_loss did not improve\n",
      "334/334 [==============================] - 30s - loss: 1.4474 - acc: 0.5786 - val_loss: 3.0018 - val_acc: 0.3725\n",
      "Epoch 168/200\n",
      "333/334 [============================>.] - ETA: 0s - loss: 1.4364 - acc: 0.5797Epoch 00167: val_loss did not improve\n",
      "334/334 [==============================] - 30s - loss: 1.4358 - acc: 0.5796 - val_loss: 3.0529 - val_acc: 0.3425\n",
      "Epoch 169/200\n",
      "333/334 [============================>.] - ETA: 0s - loss: 1.4540 - acc: 0.5751Epoch 00168: val_loss did not improve\n",
      "334/334 [==============================] - 30s - loss: 1.4538 - acc: 0.5750 - val_loss: 2.8814 - val_acc: 0.3701\n",
      "Epoch 170/200\n",
      "333/334 [============================>.] - ETA: 0s - loss: 1.4264 - acc: 0.5815Epoch 00169: val_loss did not improve\n",
      "334/334 [==============================] - 30s - loss: 1.4265 - acc: 0.5817 - val_loss: 2.8468 - val_acc: 0.3760\n",
      "Epoch 171/200\n",
      "333/334 [============================>.] - ETA: 0s - loss: 1.4445 - acc: 0.5785Epoch 00170: val_loss did not improve\n",
      "334/334 [==============================] - 30s - loss: 1.4435 - acc: 0.5783 - val_loss: 3.0046 - val_acc: 0.3605\n",
      "Epoch 172/200\n",
      "333/334 [============================>.] - ETA: 0s - loss: 1.4175 - acc: 0.5862- EEpoch 00171: val_loss did not improve\n",
      "334/334 [==============================] - 30s - loss: 1.4183 - acc: 0.5855 - val_loss: 2.9735 - val_acc: 0.3653\n",
      "Epoch 173/200\n",
      "333/334 [============================>.] - ETA: 0s - loss: 1.4243 - acc: 0.5836Epoch 00172: val_loss did not improve\n",
      "334/334 [==============================] - 30s - loss: 1.4258 - acc: 0.5831 - val_loss: 2.8397 - val_acc: 0.3473\n",
      "Epoch 174/200\n",
      "333/334 [============================>.] - ETA: 0s - loss: 1.4240 - acc: 0.5874Epoch 00173: val_loss did not improve\n",
      "334/334 [==============================] - 30s - loss: 1.4231 - acc: 0.5873 - val_loss: 2.9554 - val_acc: 0.3784\n",
      "Epoch 175/200\n",
      "333/334 [============================>.] - ETA: 0s - loss: 1.4052 - acc: 0.5887Epoch 00174: val_loss did not improve\n",
      "334/334 [==============================] - 30s - loss: 1.4055 - acc: 0.5886 - val_loss: 3.0032 - val_acc: 0.3641\n",
      "Epoch 176/200\n",
      "333/334 [============================>.] - ETA: 0s - loss: 1.3805 - acc: 0.5935Epoch 00175: val_loss did not improve\n",
      "334/334 [==============================] - 30s - loss: 1.3812 - acc: 0.5930 - val_loss: 2.9458 - val_acc: 0.3545\n",
      "Epoch 177/200\n",
      "333/334 [============================>.] - ETA: 0s - loss: 1.4065 - acc: 0.5824- ETA: 1s - loss: 1.402Epoch 00176: val_loss did not improve\n",
      "334/334 [==============================] - 30s - loss: 1.4080 - acc: 0.5823 - val_loss: 3.0729 - val_acc: 0.3593\n",
      "Epoch 178/200\n",
      "333/334 [============================>.] - ETA: 0s - loss: 1.4163 - acc: 0.5860Epoch 00177: val_loss did not improve\n",
      "334/334 [==============================] - 30s - loss: 1.4185 - acc: 0.5855 - val_loss: 2.8772 - val_acc: 0.3605\n",
      "Epoch 179/200\n",
      "333/334 [============================>.] - ETA: 0s - loss: 1.3939 - acc: 0.5995Epoch 00178: val_loss did not improve\n",
      "334/334 [==============================] - 30s - loss: 1.3951 - acc: 0.5990 - val_loss: 2.9089 - val_acc: 0.3725\n",
      "Epoch 180/200\n",
      "333/334 [============================>.] - ETA: 0s - loss: 1.3997 - acc: 0.5932Epoch 00179: val_loss did not improve\n",
      "334/334 [==============================] - 30s - loss: 1.3980 - acc: 0.5939 - val_loss: 2.8238 - val_acc: 0.3689\n",
      "Epoch 181/200\n",
      "333/334 [============================>.] - ETA: 0s - loss: 1.3876 - acc: 0.5902Epoch 00180: val_loss did not improve\n",
      "334/334 [==============================] - 30s - loss: 1.3879 - acc: 0.5903 - val_loss: 2.8717 - val_acc: 0.3521\n",
      "Epoch 182/200\n",
      "333/334 [============================>.] - ETA: 0s - loss: 1.3786 - acc: 0.5941Epoch 00181: val_loss did not improve\n",
      "334/334 [==============================] - 30s - loss: 1.3795 - acc: 0.5934 - val_loss: 3.0668 - val_acc: 0.3605\n",
      "Epoch 183/200\n",
      "333/334 [============================>.] - ETA: 0s - loss: 1.3932 - acc: 0.5940Epoch 00182: val_loss did not improve\n",
      "334/334 [==============================] - 30s - loss: 1.3926 - acc: 0.5942 - val_loss: 3.0068 - val_acc: 0.3581\n",
      "Epoch 184/200\n"
     ]
    },
    {
     "name": "stdout",
     "output_type": "stream",
     "text": [
      "333/334 [============================>.] - ETA: 0s - loss: 1.3606 - acc: 0.6005Epoch 00183: val_loss did not improve\n",
      "334/334 [==============================] - 30s - loss: 1.3609 - acc: 0.6000 - val_loss: 2.8853 - val_acc: 0.3665\n",
      "Epoch 185/200\n",
      "333/334 [============================>.] - ETA: 0s - loss: 1.3767 - acc: 0.5971Epoch 00184: val_loss did not improve\n",
      "334/334 [==============================] - 30s - loss: 1.3768 - acc: 0.5972 - val_loss: 2.9948 - val_acc: 0.3497\n",
      "Epoch 186/200\n",
      "333/334 [============================>.] - ETA: 0s - loss: 1.3909 - acc: 0.5949Epoch 00185: val_loss did not improve\n",
      "334/334 [==============================] - 30s - loss: 1.3913 - acc: 0.5945 - val_loss: 2.9277 - val_acc: 0.3677\n",
      "Epoch 187/200\n",
      "333/334 [============================>.] - ETA: 0s - loss: 1.3533 - acc: 0.5959Epoch 00186: val_loss did not improve\n",
      "334/334 [==============================] - 30s - loss: 1.3541 - acc: 0.5952 - val_loss: 2.8430 - val_acc: 0.3856\n",
      "Epoch 188/200\n",
      "333/334 [============================>.] - ETA: 0s - loss: 1.3397 - acc: 0.6029Epoch 00187: val_loss did not improve\n",
      "334/334 [==============================] - 30s - loss: 1.3410 - acc: 0.6028 - val_loss: 2.8414 - val_acc: 0.3701\n",
      "Epoch 189/200\n",
      "333/334 [============================>.] - ETA: 0s - loss: 1.3403 - acc: 0.6017Epoch 00188: val_loss did not improve\n",
      "334/334 [==============================] - 30s - loss: 1.3430 - acc: 0.6013 - val_loss: 2.9454 - val_acc: 0.3772\n",
      "Epoch 190/200\n",
      "333/334 [============================>.] - ETA: 0s - loss: 1.3557 - acc: 0.6056Epoch 00189: val_loss did not improve\n",
      "334/334 [==============================] - 30s - loss: 1.3578 - acc: 0.6048 - val_loss: 2.8132 - val_acc: 0.3784\n",
      "Epoch 191/200\n",
      "333/334 [============================>.] - ETA: 0s - loss: 1.3273 - acc: 0.6014Epoch 00190: val_loss did not improve\n",
      "334/334 [==============================] - 30s - loss: 1.3273 - acc: 0.6015 - val_loss: 2.9576 - val_acc: 0.3665\n",
      "Epoch 192/200\n",
      "333/334 [============================>.] - ETA: 0s - loss: 1.3223 - acc: 0.6134Epoch 00191: val_loss did not improve\n",
      "334/334 [==============================] - 30s - loss: 1.3223 - acc: 0.6136 - val_loss: 2.9688 - val_acc: 0.3737\n",
      "Epoch 193/200\n",
      "333/334 [============================>.] - ETA: 0s - loss: 1.3508 - acc: 0.6051Epoch 00192: val_loss did not improve\n",
      "334/334 [==============================] - 30s - loss: 1.3505 - acc: 0.6052 - val_loss: 2.8733 - val_acc: 0.3593\n",
      "Epoch 194/200\n",
      "333/334 [============================>.] - ETA: 0s - loss: 1.3506 - acc: 0.6062Epoch 00193: val_loss did not improve\n",
      "334/334 [==============================] - 30s - loss: 1.3506 - acc: 0.6063 - val_loss: 2.8948 - val_acc: 0.3737\n",
      "Epoch 195/200\n",
      "333/334 [============================>.] - ETA: 0s - loss: 1.3252 - acc: 0.6168Epoch 00194: val_loss did not improve\n",
      "334/334 [==============================] - 30s - loss: 1.3246 - acc: 0.6169 - val_loss: 3.0450 - val_acc: 0.3880\n",
      "Epoch 196/200\n",
      "333/334 [============================>.] - ETA: 0s - loss: 1.3303 - acc: 0.6072Epoch 00195: val_loss did not improve\n",
      "334/334 [==============================] - 30s - loss: 1.3281 - acc: 0.6081 - val_loss: 2.9911 - val_acc: 0.3617\n",
      "Epoch 197/200\n",
      "333/334 [============================>.] - ETA: 0s - loss: 1.3419 - acc: 0.6072Epoch 00196: val_loss did not improve\n",
      "334/334 [==============================] - 30s - loss: 1.3426 - acc: 0.6070 - val_loss: 2.9656 - val_acc: 0.3641\n",
      "Epoch 198/200\n",
      "333/334 [============================>.] - ETA: 0s - loss: 1.3187 - acc: 0.6104Epoch 00197: val_loss did not improve\n",
      "334/334 [==============================] - 30s - loss: 1.3198 - acc: 0.6100 - val_loss: 2.9558 - val_acc: 0.3569\n",
      "Epoch 199/200\n",
      "333/334 [============================>.] - ETA: 0s - loss: 1.3279 - acc: 0.6099Epoch 00198: val_loss did not improve\n",
      "334/334 [==============================] - 30s - loss: 1.3263 - acc: 0.6103 - val_loss: 2.9859 - val_acc: 0.3677\n",
      "Epoch 200/200\n",
      "333/334 [============================>.] - ETA: 0s - loss: 1.3152 - acc: 0.6086Epoch 00199: val_loss did not improve\n",
      "334/334 [==============================] - 30s - loss: 1.3148 - acc: 0.6090 - val_loss: 2.9578 - val_acc: 0.3725\n"
     ]
    },
    {
     "data": {
      "text/plain": [
       "<keras.callbacks.History at 0x7f14360991d0>"
      ]
     },
     "execution_count": 41,
     "metadata": {},
     "output_type": "execute_result"
    }
   ],
   "source": [
    "from keras.callbacks import ModelCheckpoint  \n",
    "\n",
    "### TODO: specify the number of epochs that you would like to use to train the model.\n",
    "\n",
    "epochs = 200\n",
    "\n",
    "### Do NOT modify the code below this line.\n",
    "\n",
    "checkpointer = ModelCheckpoint(filepath='saved_models/weights.best.from_scratch.hdf5', \n",
    "                               verbose=1, save_best_only=True)\n",
    "\n",
    "model.fit_generator(datagen_train.flow(train_tensor_resized, train_targets,batch_size=20 ),\n",
    "          validation_data=(valid_tensor_resized, valid_targets),\n",
    "          epochs=epochs,  callbacks=[checkpointer], verbose=1,\n",
    "                    steps_per_epoch = train_tensor_resized.shape[0]//20)"
   ]
  },
  {
   "cell_type": "markdown",
   "metadata": {},
   "source": [
    "### Load the Model with the Best Validation Loss"
   ]
  },
  {
   "cell_type": "code",
   "execution_count": 25,
   "metadata": {
    "collapsed": true
   },
   "outputs": [],
   "source": [
    "model.load_weights('saved_models/weights.best.from_scratch.hdf5')"
   ]
  },
  {
   "cell_type": "markdown",
   "metadata": {},
   "source": [
    "### Test the Model\n",
    "\n",
    "Try out your model on the test dataset of dog images.  Ensure that your test accuracy is greater than 1%."
   ]
  },
  {
   "cell_type": "code",
   "execution_count": 26,
   "metadata": {},
   "outputs": [
    {
     "name": "stdout",
     "output_type": "stream",
     "text": [
      "Test accuracy: 36.2440%\n"
     ]
    }
   ],
   "source": [
    "# get index of predicted dog breed for each image in test set\n",
    "dog_breed_predictions = [np.argmax(model.predict(np.expand_dims(tensor, axis=0))) for tensor in test_tensor_resized]\n",
    "\n",
    "# report test accuracy\n",
    "test_accuracy = 100*np.sum(np.array(dog_breed_predictions)==np.argmax(test_targets, axis=1))/len(dog_breed_predictions)\n",
    "print('Test accuracy: %.4f%%' % test_accuracy)"
   ]
  },
  {
   "cell_type": "markdown",
   "metadata": {},
   "source": [
    "---\n",
    "<a id='step4'></a>\n",
    "## Step 4: Use a CNN to Classify Dog Breeds\n",
    "\n",
    "To reduce training time without sacrificing accuracy, we show you how to train a CNN using transfer learning.  In the following step, you will get a chance to use transfer learning to train your own CNN.\n",
    "\n",
    "### Obtain Bottleneck Features"
   ]
  },
  {
   "cell_type": "code",
   "execution_count": null,
   "metadata": {
    "collapsed": true
   },
   "outputs": [],
   "source": [
    "bottleneck_features = np.load('bottleneck_features/DogVGG16Data.npz')\n",
    "train_VGG16 = bottleneck_features['train']\n",
    "valid_VGG16 = bottleneck_features['valid']\n",
    "test_VGG16 = bottleneck_features['test']"
   ]
  },
  {
   "cell_type": "markdown",
   "metadata": {},
   "source": [
    "### Model Architecture\n",
    "\n",
    "The model uses the the pre-trained VGG-16 model as a fixed feature extractor, where the last convolutional output of VGG-16 is fed as input to our model.  We only add a global average pooling layer and a fully connected layer, where the latter contains one node for each dog category and is equipped with a softmax."
   ]
  },
  {
   "cell_type": "code",
   "execution_count": null,
   "metadata": {
    "collapsed": true
   },
   "outputs": [],
   "source": [
    "VGG16_model = Sequential()\n",
    "VGG16_model.add(GlobalAveragePooling2D(input_shape=train_VGG16.shape[1:]))\n",
    "VGG16_model.add(Dense(133, activation='softmax'))\n",
    "\n",
    "VGG16_model.summary()"
   ]
  },
  {
   "cell_type": "markdown",
   "metadata": {},
   "source": [
    "### Compile the Model"
   ]
  },
  {
   "cell_type": "code",
   "execution_count": null,
   "metadata": {
    "collapsed": true
   },
   "outputs": [],
   "source": [
    "VGG16_model.compile(loss='categorical_crossentropy', optimizer='rmsprop', metrics=['accuracy'])"
   ]
  },
  {
   "cell_type": "markdown",
   "metadata": {},
   "source": [
    "### Train the Model"
   ]
  },
  {
   "cell_type": "code",
   "execution_count": null,
   "metadata": {
    "collapsed": true
   },
   "outputs": [],
   "source": [
    "from keras.callbacks import ModelCheckpoint \n",
    "checkpointer = ModelCheckpoint(filepath='saved_models/weights.best.VGG16.hdf5', \n",
    "                               verbose=1, save_best_only=True)\n",
    "\n",
    "VGG16_model.fit(train_VGG16, train_targets, \n",
    "          validation_data=(valid_VGG16, valid_targets),\n",
    "          epochs=20, batch_size=20, callbacks=[checkpointer], verbose=1)"
   ]
  },
  {
   "cell_type": "markdown",
   "metadata": {},
   "source": [
    "### Load the Model with the Best Validation Loss"
   ]
  },
  {
   "cell_type": "code",
   "execution_count": null,
   "metadata": {
    "collapsed": true
   },
   "outputs": [],
   "source": [
    "VGG16_model.load_weights('saved_models/weights.best.VGG16.hdf5')"
   ]
  },
  {
   "cell_type": "markdown",
   "metadata": {},
   "source": [
    "### Test the Model\n",
    "\n",
    "Now, we can use the CNN to test how well it identifies breed within our test dataset of dog images.  We print the test accuracy below."
   ]
  },
  {
   "cell_type": "code",
   "execution_count": null,
   "metadata": {
    "collapsed": true
   },
   "outputs": [],
   "source": [
    "# get index of predicted dog breed for each image in test set\n",
    "VGG16_predictions = [np.argmax(VGG16_model.predict(np.expand_dims(feature, axis=0))) for feature in test_VGG16]\n",
    "\n",
    "# report test accuracy\n",
    "test_accuracy = 100*np.sum(np.array(VGG16_predictions)==np.argmax(test_targets, axis=1))/len(VGG16_predictions)\n",
    "print('Test accuracy: %.4f%%' % test_accuracy)"
   ]
  },
  {
   "cell_type": "markdown",
   "metadata": {},
   "source": [
    "### Predict Dog Breed with the Model"
   ]
  },
  {
   "cell_type": "code",
   "execution_count": null,
   "metadata": {
    "collapsed": true
   },
   "outputs": [],
   "source": [
    "from extract_bottleneck_features import *\n",
    "def VGG16_predict_breed(img_path):\n",
    "    # extract bottleneck features\n",
    "    bottleneck_feature = extract_VGG16(path_to_tensor(img_path))\n",
    "    # obtain predicted vector\n",
    "    predicted_vector = VGG16_model.predict(bottleneck_feature)\n",
    "    # return dog breed that is predicted by the model\n",
    "    return dog_names[np.argmax(predicted_vector)]"
   ]
  },
  {
   "cell_type": "markdown",
   "metadata": {},
   "source": [
    "---\n",
    "<a id='step5'></a>\n",
    "## Step 5: Create a CNN to Classify Dog Breeds (using Transfer Learning)\n",
    "\n",
    "You will now use transfer learning to create a CNN that can identify dog breed from images.  Your CNN must attain at least 60% accuracy on the test set.\n",
    "\n",
    "In Step 4, we used transfer learning to create a CNN using VGG-16 bottleneck features.  In this section, you must use the bottleneck features from a different pre-trained model.  To make things easier for you, we have pre-computed the features for all of the networks that are currently available in Keras:\n",
    "- [VGG-19](https://s3-us-west-1.amazonaws.com/udacity-aind/dog-project/DogVGG19Data.npz) bottleneck features\n",
    "- [ResNet-50](https://s3-us-west-1.amazonaws.com/udacity-aind/dog-project/DogResnet50Data.npz) bottleneck features\n",
    "- [Inception](https://s3-us-west-1.amazonaws.com/udacity-aind/dog-project/DogInceptionV3Data.npz) bottleneck features\n",
    "- [Xception](https://s3-us-west-1.amazonaws.com/udacity-aind/dog-project/DogXceptionData.npz) bottleneck features\n",
    "\n",
    "The files are encoded as such:\n",
    "\n",
    "    Dog{network}Data.npz\n",
    "    \n",
    "where `{network}`, in the above filename, can be one of `VGG19`, `Resnet50`, `InceptionV3`, or `Xception`.  Pick one of the above architectures, download the corresponding bottleneck features, and store the downloaded file in the `bottleneck_features/` folder in the repository.\n",
    "\n",
    "### (IMPLEMENTATION) Obtain Bottleneck Features\n",
    "\n",
    "In the code block below, extract the bottleneck features corresponding to the train, test, and validation sets by running the following:\n",
    "\n",
    "    bottleneck_features = np.load('bottleneck_features/Dog{network}Data.npz')\n",
    "    train_{network} = bottleneck_features['train']\n",
    "    valid_{network} = bottleneck_features['valid']\n",
    "    test_{network} = bottleneck_features['test']"
   ]
  },
  {
   "cell_type": "code",
   "execution_count": null,
   "metadata": {
    "collapsed": true
   },
   "outputs": [],
   "source": [
    "import numpy as np\n",
    "### TODO: Obtain bottleneck features from another pre-trained CNN.\n",
    "bottleneck_features_resnet50 = np.load(\"bottleneck_features/DogResNet50Data.npz\")\n",
    "resnet50_train = bottleneck_features_resnet50[\"train\"]\n",
    "resnet50_valid = bottleneck_features_resnet50[\"valid\"]\n",
    "resnet50_test = bottleneck_features_resnet50[\"test\"]"
   ]
  },
  {
   "cell_type": "markdown",
   "metadata": {},
   "source": [
    "### (IMPLEMENTATION) Model Architecture\n",
    "\n",
    "Create a CNN to classify dog breed.  At the end of your code cell block, summarize the layers of your model by executing the line:\n",
    "    \n",
    "        <your model's name>.summary()\n",
    "   \n",
    "__Question 5:__ Outline the steps you took to get to your final CNN architecture and your reasoning at each step.  Describe why you think the architecture is suitable for the current problem.\n",
    "\n",
    "__Answer:__ \n",
    "\n"
   ]
  },
  {
   "cell_type": "code",
   "execution_count": null,
   "metadata": {
    "collapsed": true
   },
   "outputs": [],
   "source": [
    "### TODO: Define your architecture.\n",
    "resnet50_model = Sequential()\n",
    "resnet50_model.add(GlobalAveragePooling2D(input_shape=resnet50_train.shape[1:]))\n",
    "#resnet50_model.add(Dense(1024,activation=\"relu\"))\n",
    "#resnet50_model.add(Dropout(0.3))\n",
    "resnet50_model.add(Dense(512,activation=\"relu\"))\n",
    "resnet50_model.add(Dropout(0.4))\n",
    "resnet50_model.add(Dense(133,activation=\"softmax\"))\n",
    "resnet50_model.summary()"
   ]
  },
  {
   "cell_type": "markdown",
   "metadata": {},
   "source": [
    "### (IMPLEMENTATION) Compile the Model"
   ]
  },
  {
   "cell_type": "code",
   "execution_count": null,
   "metadata": {
    "collapsed": true
   },
   "outputs": [],
   "source": [
    "### TODO: Compile the model.\n",
    "resnet50_model.compile(optimizer=\"adam\",loss=\"categorical_crossentropy\",metrics=[\"accuracy\"])"
   ]
  },
  {
   "cell_type": "markdown",
   "metadata": {},
   "source": [
    "### (IMPLEMENTATION) Train the Model\n",
    "\n",
    "Train your model in the code cell below.  Use model checkpointing to save the model that attains the best validation loss.  \n",
    "\n",
    "You are welcome to [augment the training data](https://blog.keras.io/building-powerful-image-classification-models-using-very-little-data.html), but this is not a requirement. "
   ]
  },
  {
   "cell_type": "code",
   "execution_count": null,
   "metadata": {
    "collapsed": true
   },
   "outputs": [],
   "source": [
    "### TODO: Train the model.\n",
    "from keras.callbacks import ModelCheckpoint\n",
    "checkpoint = ModelCheckpoint(filepath='saved_models/weights.best.ResNet50.hdf5', \n",
    "                               verbose=1, save_best_only=True)\n",
    "resnet50_model.fit(resnet50_train,train_targets,batch_size=20,epochs=20,\n",
    "                  validation_data=(resnet50_valid,valid_targets),callbacks=[checkpoint])"
   ]
  },
  {
   "cell_type": "markdown",
   "metadata": {},
   "source": [
    "### (IMPLEMENTATION) Load the Model with the Best Validation Loss"
   ]
  },
  {
   "cell_type": "code",
   "execution_count": null,
   "metadata": {
    "collapsed": true
   },
   "outputs": [],
   "source": [
    "### TODO: Load the model weights with the best validation loss.\n",
    "resnet50_model.load_weights(\"saved_models/weights.best.ResNet50.hdf5\")"
   ]
  },
  {
   "cell_type": "markdown",
   "metadata": {},
   "source": [
    "### (IMPLEMENTATION) Test the Model\n",
    "\n",
    "Try out your model on the test dataset of dog images. Ensure that your test accuracy is greater than 60%."
   ]
  },
  {
   "cell_type": "code",
   "execution_count": null,
   "metadata": {
    "collapsed": true
   },
   "outputs": [],
   "source": [
    "### TODO: Calculate classification accuracy on the test dataset.\n",
    "# get index of predicted dog breed for each image in test set\n",
    "resnet50_predictions = [np.argmax(resnet50_model.predict(np.expand_dims(feature, axis=0))) for feature in resnet50_test]\n",
    "\n",
    "# report test accuracy\n",
    "test_accuracy = 100*np.sum(np.array(resnet50_predictions)==np.argmax(test_targets, axis=1))/len(resnet50_predictions)\n",
    "print('Test accuracy: %.4f%%' % test_accuracy)"
   ]
  },
  {
   "cell_type": "markdown",
   "metadata": {},
   "source": [
    "### (IMPLEMENTATION) Predict Dog Breed with the Model\n",
    "\n",
    "Write a function that takes an image path as input and returns the dog breed (`Affenpinscher`, `Afghan_hound`, etc) that is predicted by your model.  \n",
    "\n",
    "Similar to the analogous function in Step 5, your function should have three steps:\n",
    "1. Extract the bottleneck features corresponding to the chosen CNN model.\n",
    "2. Supply the bottleneck features as input to the model to return the predicted vector.  Note that the argmax of this prediction vector gives the index of the predicted dog breed.\n",
    "3. Use the `dog_names` array defined in Step 0 of this notebook to return the corresponding breed.\n",
    "\n",
    "The functions to extract the bottleneck features can be found in `extract_bottleneck_features.py`, and they have been imported in an earlier code cell.  To obtain the bottleneck features corresponding to your chosen CNN architecture, you need to use the function\n",
    "\n",
    "    extract_{network}\n",
    "    \n",
    "where `{network}`, in the above filename, should be one of `VGG19`, `Resnet50`, `InceptionV3`, or `Xception`."
   ]
  },
  {
   "cell_type": "code",
   "execution_count": null,
   "metadata": {
    "collapsed": true
   },
   "outputs": [],
   "source": [
    "### TODO: Write a function that takes a path to an image as input\n",
    "### and returns the dog breed that is predicted by the model.\n",
    "from extract_bottleneck_features import *\n",
    "import skimage.io\n",
    "import matplotlib.pyplot as plt\n",
    "def predict_dog(path_to_image,model = resnet50_model):\n",
    "    image = path_to_tensor(path_to_image)\n",
    "    input_ = extract_Resnet50(image)\n",
    "    resnet50_model.load_weights(\"saved_models/weights.best.ResNet50.hdf5\")\n",
    "    prediction = np.argmax(resnet50_model.predict(input_))\n",
    "    img=skimage.io.imread(path_to_image)\n",
    "    plt.imshow(img)\n",
    "    plt.axis(\"off\")\n",
    "    plt.title(\"The give image is of  >>>>> \"+str(dog_names[prediction])+ \" <<<<<<\")\n",
    "    plt.show()\n",
    "\n",
    "\n",
    "    \n",
    "    "
   ]
  },
  {
   "cell_type": "code",
   "execution_count": null,
   "metadata": {
    "collapsed": true
   },
   "outputs": [],
   "source": [
    "predict_dog(\"dogImage.jpg\",resnet50_model)"
   ]
  },
  {
   "cell_type": "markdown",
   "metadata": {},
   "source": [
    "---\n",
    "<a id='step6'></a>\n",
    "## Step 6: Write your Algorithm\n",
    "\n",
    "Write an algorithm that accepts a file path to an image and first determines whether the image contains a human, dog, or neither.  Then,\n",
    "- if a __dog__ is detected in the image, return the predicted breed.\n",
    "- if a __human__ is detected in the image, return the resembling dog breed.\n",
    "- if __neither__ is detected in the image, provide output that indicates an error.\n",
    "\n",
    "You are welcome to write your own functions for detecting humans and dogs in images, but feel free to use the `face_detector` and `dog_detector` functions developed above.  You are __required__ to use your CNN from Step 5 to predict dog breed.  \n",
    "\n",
    "Some sample output for our algorithm is provided below, but feel free to design your own user experience!\n",
    "\n",
    "![Sample Human Output](images/sample_human_output.png)\n",
    "\n",
    "\n",
    "### (IMPLEMENTATION) Write your Algorithm"
   ]
  },
  {
   "cell_type": "code",
   "execution_count": null,
   "metadata": {
    "collapsed": true
   },
   "outputs": [],
   "source": [
    "def model(train=resnet50_train):\n",
    "    model = Sequential()\n",
    "    model.add(GlobalAveragePooling2D(input_shape=train.shape[1:]))\n",
    "#resnet50_model.add(Dense(1024,activation=\"relu\"))\n",
    "#resnet50_model.add(Dropout(0.3))\n",
    "    model.add(Dense(512,activation=\"relu\"))\n",
    "    model.add(Dropout(0.4))\n",
    "    model.add(Dense(133,activation=\"softmax\"))\n",
    "    return model"
   ]
  },
  {
   "cell_type": "code",
   "execution_count": null,
   "metadata": {
    "collapsed": true
   },
   "outputs": [],
   "source": [
    "### TODO: Write your algorithm.\n",
    "### Feel free to use as many code cells as needed.\n",
    "model()\n",
    "def predict_dog_human(path_to_image,model=resnet50_model):\n",
    "    dog_logical = dog_detector(path_to_image)\n",
    "    human_logical = face_detector(path_to_image)\n",
    "    image = path_to_tensor(path_to_image)\n",
    "    input_ = extract_Resnet50(image)\n",
    "    img = skimage.io.imread(path_to_image)\n",
    "    resnet50_model.load_weights(\"saved_models/weights.best.ResNet50.hdf5\")\n",
    "    prediction = np.argmax(resnet50_model.predict(input_))\n",
    "    if dog_detector(path_to_image) == True and face_detector(path_to_image) == False:\n",
    "        plt.imshow(img)\n",
    "        plt.axis(\"off\")\n",
    "        plt.title(\"The give image is of  >>>>> \"+str(dog_names[prediction])+ \" <<<<<<\")\n",
    "        plt.show()\n",
    "    elif  face_detector(path_to_image)== True:\n",
    "        plt.imshow(img)\n",
    "        plt.axis(\"off\")\n",
    "        plt.title(\"Hi,  Human!!\")\n",
    "        plt.show()\n",
    "        print(\"You look like a .....\\n \"+str(dog_names[prediction]))\n",
    "    elif face_detector(path_to_image)== False and dog_detector(path_to_image) == False:\n",
    "        plt.imshow(img)\n",
    "        plt.axis(\"off\")\n",
    "        plt.title(\"Neither a dog Image nor a human Image >>>Error<<<<\")\n",
    "        plt.show()\n",
    "    "
   ]
  },
  {
   "cell_type": "code",
   "execution_count": null,
   "metadata": {
    "collapsed": true
   },
   "outputs": [],
   "source": [
    "predict_dog_human(\"me.JPG\",resnet50_model)"
   ]
  },
  {
   "cell_type": "code",
   "execution_count": null,
   "metadata": {
    "collapsed": true
   },
   "outputs": [],
   "source": [
    "predict_dog_human(\"bird.JPG\",resnet50_model)"
   ]
  },
  {
   "cell_type": "code",
   "execution_count": null,
   "metadata": {
    "collapsed": true
   },
   "outputs": [],
   "source": [
    "predict_dog_human(\"dp.JPG\",resnet50_model)"
   ]
  },
  {
   "cell_type": "code",
   "execution_count": null,
   "metadata": {
    "collapsed": true
   },
   "outputs": [],
   "source": [
    "predict_dog_human(\"ch.JPG\",resnet50_model)"
   ]
  },
  {
   "cell_type": "markdown",
   "metadata": {},
   "source": [
    "---\n",
    "<a id='step7'></a>\n",
    "## Step 7: Test Your Algorithm\n",
    "\n",
    "In this section, you will take your new algorithm for a spin!  What kind of dog does the algorithm think that __you__ look like?  If you have a dog, does it predict your dog's breed accurately?  If you have a cat, does it mistakenly think that your cat is a dog?\n",
    "\n",
    "### (IMPLEMENTATION) Test Your Algorithm on Sample Images!\n",
    "\n",
    "Test your algorithm at least six images on your computer.  Feel free to use any images you like.  Use at least two human and two dog images.  \n",
    "\n",
    "__Question 6:__ Is the output better than you expected :) ?  Or worse :( ?  Provide at least three possible points of improvement for your algorithm.\n",
    "\n",
    "__Answer:__ "
   ]
  },
  {
   "cell_type": "code",
   "execution_count": null,
   "metadata": {
    "collapsed": true
   },
   "outputs": [],
   "source": [
    "## TODO: Execute your algorithm from Step 6 on\n",
    "## at least 6 images on your computer.\n",
    "## Feel free to use as many code cells as needed."
   ]
  }
 ],
 "metadata": {
  "anaconda-cloud": {},
  "kernelspec": {
   "display_name": "Python [default]",
   "language": "python",
   "name": "python3"
  },
  "language_info": {
   "codemirror_mode": {
    "name": "ipython",
    "version": 3
   },
   "file_extension": ".py",
   "mimetype": "text/x-python",
   "name": "python",
   "nbconvert_exporter": "python",
   "pygments_lexer": "ipython3",
   "version": "3.6.4"
  }
 },
 "nbformat": 4,
 "nbformat_minor": 1
}
